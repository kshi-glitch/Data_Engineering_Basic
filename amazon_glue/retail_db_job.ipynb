{
 "cells": [
  {
   "cell_type": "markdown",
   "metadata": {},
   "source": [
    "Connected to de_venv (Python 3.9.6)"
   ]
  },
  {
   "cell_type": "code",
   "execution_count": null,
   "id": "babef406-e9ab-4a79-9f00-a6ded7883333",
   "metadata": {},
   "outputs": [],
   "source": [
    "import boto3\n",
    "import os\n",
    "import time\n",
    "import json\n",
    "\n",
    "# Configuration\n",
    "LOCAL_DATA_PATH = \"/Users/kshitijpatil/de_on_aws/retail_db\"\n",
    "BUCKET_NAME = \"kshitij-retail-bucket\"  \n",
    "REGION = \"ap-southeast-2\" \n",
    "DATABASE_NAME = \"retail_db\"\n",
    "CRAWLER_NAME = \"retail_db_crawler\"\n",
    "IAM_ROLE_NAME = \"AWSGlueRetailDBRole\"\n",
    "S3_DATA_PATH = f\"s3://{BUCKET_NAME}/retail_db/\"\n",
    "ATHENA_RESULTS_PATH = f\"s3://{BUCKET_NAME}/athena-results/\"\n",
    "FILE_EXTENSION = \".csv\"  \n",
    "\n",
    "# AWS Clients\n",
    "s3_client = boto3.client(\"s3\", region_name=REGION)\n",
    "iam_client = boto3.client(\"iam\")\n",
    "glue_client = boto3.client(\"glue\", region_name=REGION)\n",
    "athena_client = boto3.client(\"athena\", region_name=REGION)"
   ]
  },
  {
   "cell_type": "code",
   "execution_count": null,
   "id": "ce2d0fb8-1d5e-49f5-ac2b-849484093ef0",
   "metadata": {},
   "outputs": [],
   "source": [
    "def verify_and_rename_files():\n",
    "\n",
    "    directories = [\"categories\", \"customers\", \"departments\", \"order_items\", \"orders\", \"products\"]\n",
    "    \n",
    "    for directory in directories:\n",
    "        file_path = os.path.join(LOCAL_DATA_PATH, directory, \"part-00000\")\n",
    "        if os.path.exists(file_path):\n",
    "            new_file_path = file_path + FILE_EXTENSION\n",
    "            os.rename(file_path, new_file_path)\n",
    "            print(f\"Renamed {file_path} to {new_file_path}\")\n",
    "        else:\n",
    "            print(f\"File {file_path} not found\")\n",
    "            raise Exception(f\"Missing data file in {directory}\")"
   ]
  },
  {
   "cell_type": "code",
   "execution_count": null,
   "id": "41b014de-0eab-49a8-b2b6-d14c72bc0054",
   "metadata": {},
   "outputs": [],
   "source": [
    "import boto3\n",
    "import os\n",
    "import time\n",
    "import json\n",
    "\n",
    "# Configuration\n",
    "LOCAL_DATA_PATH = \"/Users/kshitijpatil/de_on_aws/retail_db\"\n",
    "BUCKET_NAME = \"kshitij-retail-bucket\"  \n",
    "REGION = \"ap-southeast-2\"  \n",
    "DATABASE_NAME = \"retail_db\"\n",
    "CRAWLER_NAME = \"retail_db_crawler\"\n",
    "IAM_ROLE_NAME = \"AWSGlueRetailDBRole\"\n",
    "S3_DATA_PATH = f\"s3://{BUCKET_NAME}/retail_db/\"\n",
    "ATHENA_RESULTS_PATH = f\"s3://{BUCKET_NAME}/athena-results/\"\n",
    "FILE_EXTENSION = \".csv\"  \n",
    "\n",
    "# AWS Clients\n",
    "s3_client = boto3.client(\"s3\", region_name=REGION)\n",
    "iam_client = boto3.client(\"iam\")\n",
    "glue_client = boto3.client(\"glue\", region_name=REGION)\n",
    "athena_client = boto3.client(\"athena\", region_name=REGION)"
   ]
  },
  {
   "cell_type": "code",
   "execution_count": null,
   "id": "54b296f9-434c-47bf-8ac9-677f346158bf",
   "metadata": {},
   "outputs": [],
   "source": [
    "def verify_and_rename_files():\n",
    "\n",
    "    directories = [\"categories\", \"customers\", \"departments\", \"order_items\", \"orders\", \"products\"]\n",
    "\n",
    "    for directory in directories:\n",
    "        file_path = os.path.join(LOCAL_DATA_PATH, directory, \"part-00000\")\n",
    "        if os.path.exists(file_path):\n",
    "            new_file_path = file_path + FILE_EXTENSION\n",
    "            os.rename(file_path, new_file_path)\n",
    "            print(f\"Renamed {file_path} to {new_file_path}\")\n",
    "        else:\n",
    "            print(f\"File {file_path} not found\")\n",
    "            raise Exception(f\"Missing data file in {directory}\")"
   ]
  },
  {
   "cell_type": "code",
   "execution_count": null,
   "id": "28259a12-5bd2-4e0d-af3e-d129b0045ce8",
   "metadata": {},
   "outputs": [],
   "source": [
    "def create_s3_bucket():\n",
    "    try:\n",
    "        s3_client.head_bucket(Bucket=BUCKET_NAME)\n",
    "        print(f\"Bucket {BUCKET_NAME} already exists\")\n",
    "    except s3_client.exceptions.ClientError:\n",
    "        s3_client.create_bucket(\n",
    "            Bucket=BUCKET_NAME,\n",
    "            CreateBucketConfiguration={\"LocationConstraint\": REGION}\n",
    "        )\n",
    "        print(f\"Created bucket {BUCKET_NAME}\")"
   ]
  },
  {
   "cell_type": "code",
   "execution_count": null,
   "id": "fafd89ec-2d7e-4ceb-a1e3-b130d80b08f1",
   "metadata": {},
   "outputs": [],
   "source": [
    "def upload_data_to_s3():\n",
    "\n",
    "    directories = [\"categories\", \"customers\", \"departments\", \"order_items\", \"orders\", \"products\"]\n",
    "    for directory in directories:\n",
    "        local_dir = os.path.join(LOCAL_DATA_PATH, directory)\n",
    "        for file_name in os.listdir(local_dir):\n",
    "            if file_name.endswith(FILE_EXTENSION):\n",
    "                local_file = os.path.join(local_dir, file_name)\n",
    "                s3_key = f\"retail_db/{directory}/{file_name}\"\n",
    "                s3_client.upload_file(local_file, BUCKET_NAME, s3_key)\n",
    "                print(f\"Uploaded {local_file} to s3://{BUCKET_NAME}/{s3_key}\")"
   ]
  },
  {
   "cell_type": "code",
   "execution_count": null,
   "id": "68a40850-636e-4eb7-92c5-9bd1e434d427",
   "metadata": {},
   "outputs": [],
   "source": [
    "def create_iam_role():\n",
    "    \"\"\"Create IAM role for AWS Glue.\"\"\"\n",
    "    trust_policy = {\n",
    "        \"Version\": \"2012-10-17\",\n",
    "        \"Statement\": [\n",
    "            {\n",
    "                \"Effect\": \"Allow\",\n",
    "                \"Principal\": {\"Service\": \"glue.amazonaws.com\"},\n",
    "                \"Action\": \"sts:AssumeRole\"\n",
    "            }\n",
    "        ]\n",
    "    }\n",
    "    try:\n",
    "        response = iam_client.create_role(\n",
    "            RoleName=IAM_ROLE_NAME,\n",
    "            AssumeRolePolicyDocument=json.dumps(trust_policy)\n",
    "        )\n",
    "        role_arn = response[\"Role\"][\"Arn\"]\n",
    "        print(f\"Created IAM role {IAM_ROLE_NAME}\")\n",
    "    except iam_client.exceptions.EntityAlreadyExistsException:\n",
    "        role_arn = f\"arn:aws:iam::{boto3.client('sts').get_caller_identity()['Account']}:role/{IAM_ROLE_NAME}\"\n",
    "        print(f\"IAM role {IAM_ROLE_NAME} already exists\")\n",
    "\n",
    "    # Attach policies\n",
    "    policies = [\n",
    "        \"arn:aws:iam::aws:policy/AWSGlueServiceRole\",\n",
    "        \"arn:aws:iam::aws:policy/AmazonS3FullAccess\",\n",
    "        \"arn:aws:iam::aws:policy/AmazonAthenaFullAccess\"\n",
    "    ]\n",
    "    for policy_arn in policies:\n",
    "        iam_client.attach_role_policy(RoleName=IAM_ROLE_NAME, PolicyArn=policy_arn)\n",
    "        print(f\"Attached policy {policy_arn} to {IAM_ROLE_NAME}\")\n",
    "\n",
    "    return role_arn"
   ]
  },
  {
   "cell_type": "code",
   "execution_count": null,
   "id": "7e206289-d66c-4cbd-9e62-b5b2304095ee",
   "metadata": {},
   "outputs": [],
   "source": [
    "import boto3\n",
    "import os\n",
    "import time\n",
    "import json\n",
    "\n",
    "# Configuration\n",
    "LOCAL_DATA_PATH = \"/Users/kshitijpatil/de_on_aws/retail_db\"\n",
    "BUCKET_NAME = \"kshitij-retail-bucket\"  \n",
    "REGION = \"ap-southeast-2\"  \n",
    "DATABASE_NAME = \"retail_db\"\n",
    "CRAWLER_NAME = \"retail_db_crawler\"\n",
    "IAM_ROLE_NAME = \"AWSGlueRetailDBRole\"\n",
    "S3_DATA_PATH = f\"s3://{BUCKET_NAME}/retail_db/\"\n",
    "ATHENA_RESULTS_PATH = f\"s3://{BUCKET_NAME}/athena-results/\"\n",
    "FILE_EXTENSION = \".csv\"  \n",
    "\n",
    "# AWS Clients\n",
    "s3_client = boto3.client(\"s3\", region_name=REGION)\n",
    "iam_client = boto3.client(\"iam\")\n",
    "glue_client = boto3.client(\"glue\", region_name=REGION)\n",
    "athena_client = boto3.client(\"athena\", region_name=REGION)"
   ]
  },
  {
   "cell_type": "code",
   "execution_count": null,
   "id": "13401e58-6c23-498f-8ccf-33de94dedbeb",
   "metadata": {},
   "outputs": [],
   "source": [
    "def verify_and_rename_files():\n",
    "\n",
    "    directories = [\"categories\", \"customers\", \"departments\", \"order_items\", \"orders\", \"products\"]\n",
    "\n",
    "    for directory in directories:\n",
    "        file_path = os.path.join(LOCAL_DATA_PATH, directory, \"part-00000\")\n",
    "        if os.path.exists(file_path):\n",
    "            new_file_path = file_path + FILE_EXTENSION\n",
    "            os.rename(file_path, new_file_path)\n",
    "            print(f\"Renamed {file_path} to {new_file_path}\")\n",
    "        else:\n",
    "            print(f\"File {file_path} not found\")\n",
    "            raise Exception(f\"Missing data file in {directory}\")"
   ]
  },
  {
   "cell_type": "code",
   "execution_count": null,
   "id": "f57d05b0-2fe7-4449-8654-85eeed1fa9d3",
   "metadata": {},
   "outputs": [],
   "source": [
    "def create_s3_bucket():\n",
    "    try:\n",
    "        s3_client.head_bucket(Bucket=BUCKET_NAME)\n",
    "        print(f\"Bucket {BUCKET_NAME} already exists\")\n",
    "    except s3_client.exceptions.ClientError:\n",
    "        s3_client.create_bucket(\n",
    "            Bucket=BUCKET_NAME,\n",
    "            CreateBucketConfiguration={\"LocationConstraint\": REGION}\n",
    "        )\n",
    "        print(f\"Created bucket {BUCKET_NAME}\")"
   ]
  },
  {
   "cell_type": "code",
   "execution_count": null,
   "id": "06847fe0-f8ec-43c3-896a-67b916aa74b8",
   "metadata": {},
   "outputs": [],
   "source": [
    "def upload_data_to_s3():\n",
    "\n",
    "    directories = [\"categories\", \"customers\", \"departments\", \"order_items\", \"orders\", \"products\"]\n",
    "    for directory in directories:\n",
    "        local_dir = os.path.join(LOCAL_DATA_PATH, directory)\n",
    "        for file_name in os.listdir(local_dir):\n",
    "            if file_name.endswith(FILE_EXTENSION):\n",
    "                local_file = os.path.join(local_dir, file_name)\n",
    "                s3_key = f\"retail_db/{directory}/{file_name}\"\n",
    "                s3_client.upload_file(local_file, BUCKET_NAME, s3_key)\n",
    "                print(f\"Uploaded {local_file} to s3://{BUCKET_NAME}/{s3_key}\")"
   ]
  },
  {
   "cell_type": "code",
   "execution_count": null,
   "id": "ee9aad58-5020-4376-8ff4-b6bfdf118ca8",
   "metadata": {},
   "outputs": [],
   "source": [
    "def create_iam_role():\n",
    "    \"\"\"Create IAM role for AWS Glue.\"\"\"\n",
    "    trust_policy = {\n",
    "        \"Version\": \"2012-10-17\",\n",
    "        \"Statement\": [\n",
    "            {\n",
    "                \"Effect\": \"Allow\",\n",
    "                \"Principal\": {\"Service\": \"glue.amazonaws.com\"},\n",
    "                \"Action\": \"sts:AssumeRole\"\n",
    "            }\n",
    "        ]\n",
    "    }\n",
    "    try:\n",
    "        response = iam_client.create_role(\n",
    "            RoleName=IAM_ROLE_NAME,\n",
    "            AssumeRolePolicyDocument=json.dumps(trust_policy)\n",
    "        )\n",
    "        role_arn = response[\"Role\"][\"Arn\"]\n",
    "        print(f\"Created IAM role {IAM_ROLE_NAME}\")\n",
    "    except iam_client.exceptions.EntityAlreadyExistsException:\n",
    "        role_arn = f\"arn:aws:iam::{boto3.client('sts').get_caller_identity()['Account']}:role/{IAM_ROLE_NAME}\"\n",
    "        print(f\"IAM role {IAM_ROLE_NAME} already exists\")\n",
    "\n",
    "    # Attach policies\n",
    "    policies = [\n",
    "        \"arn:aws:iam::aws:policy/AWSGlueServiceRole\",\n",
    "        \"arn:aws:iam::aws:policy/AmazonS3FullAccess\",\n",
    "        \"arn:aws:iam::aws:policy/AmazonAthenaFullAccess\"\n",
    "    ]\n",
    "    for policy_arn in policies:\n",
    "        iam_client.attach_role_policy(RoleName=IAM_ROLE_NAME, PolicyArn=policy_arn)\n",
    "        print(f\"Attached policy {policy_arn} to {IAM_ROLE_NAME}\")\n",
    "\n",
    "    return role_arn"
   ]
  },
  {
   "cell_type": "code",
   "execution_count": null,
   "id": "da7261d3-ad0b-456e-b85b-2cbaa403f328",
   "metadata": {},
   "outputs": [],
   "source": [
    "def create_glue_database():\n",
    "    \"\"\"Create Glue database.\"\"\"\n",
    "    try:\n",
    "        glue_client.create_database(DatabaseInput={\"Name\": DATABASE_NAME})\n",
    "        print(f\"Created Glue database {DATABASE_NAME}\")\n",
    "    except glue_client.exceptions.AlreadyExistsException:\n",
    "        print(f\"Glue database {DATABASE_NAME} already exists\")"
   ]
  },
  {
   "cell_type": "code",
   "execution_count": null,
   "id": "76e45f9d-be52-4c5d-a836-f65b8e4eabec",
   "metadata": {},
   "outputs": [],
   "source": [
    "def create_glue_crawler(role_arn):\n",
    "\n",
    "    crawler_config = {\n",
    "        \"Name\": CRAWLER_NAME,\n",
    "        \"Role\": role_arn,\n",
    "        \"DatabaseName\": DATABASE_NAME,\n",
    "        \"Targets\": {\n",
    "            \"S3Targets\": [{\"Path\": S3_DATA_PATH}]\n",
    "        },\n",
    "        \"SchemaChangePolicy\": {\n",
    "            \"UpdateBehavior\": \"UPDATE_IN_DATABASE\",\n",
    "            \"DeleteBehavior\": \"DEPRECATE_IN_DATABASE\"\n",
    "        }\n",
    "    }\n",
    "    try:\n",
    "        glue_client.create_crawler(**crawler_config)\n",
    "        print(f\"Created crawler {CRAWLER_NAME}\")\n",
    "    except glue_client.exceptions.AlreadyExistsException:\n",
    "        print(f\"Crawler {CRAWLER_NAME} already exists\")\n",
    "\n",
    "    # Run crawler\n",
    "    glue_client.start_crawler(Name=CRAWLER_NAME)\n",
    "    print(f\"Started crawler {CRAWLER_NAME}\")\n",
    "\n",
    "    # Wait for crawler to complete\n",
    "    while True:\n",
    "        response = glue_client.get_crawler(Name=CRAWLER_NAME)\n",
    "        state = response[\"Crawler\"][\"State\"]\n",
    "        if state == \"READY\":\n",
    "            print(f\"Crawler {CRAWLER_NAME} completed\")\n",
    "            break\n",
    "        print(f\"Crawler {CRAWLER_NAME} is {state}...\")\n",
    "        time.sleep(10)"
   ]
  },
  {
   "cell_type": "code",
   "execution_count": null,
   "id": "bfb1f0e0-e1df-4b3c-8e5b-efaf40c9c70b",
   "metadata": {},
   "outputs": [],
   "source": [
    "def configure_athena():\n",
    "    \"\"\"Configure Athena query results location.\"\"\"\n",
    "    try:\n",
    "        athena_client.update_work_group(\n",
    "            WorkGroup=\"primary\",\n",
    "            ConfigurationUpdates={\n",
    "                \"ResultConfigurationUpdates\": {\n",
    "                    \"OutputLocation\": ATHENA_RESULTS_PATH\n",
    "                }\n",
    "            }\n",
    "        )\n",
    "        print(f\"Configured Athena results location to {ATHENA_RESULTS_PATH}\")\n",
    "    except Exception as e:\n",
    "        print(f\"Error configuring Athena: {e}\")"
   ]
  },
  {
   "cell_type": "code",
   "execution_count": null,
   "metadata": {},
   "outputs": [
    {
     "name": "stdout",
     "output_type": "stream",
     "text": [
      "Renamed /Users/kshitijpatil/de_on_aws/retail_db/categories/part-00000 to /Users/kshitijpatil/de_on_aws/retail_db/categories/part-00000.csv\n",
      "Renamed /Users/kshitijpatil/de_on_aws/retail_db/customers/part-00000 to /Users/kshitijpatil/de_on_aws/retail_db/customers/part-00000.csv\n",
      "Renamed /Users/kshitijpatil/de_on_aws/retail_db/departments/part-00000 to /Users/kshitijpatil/de_on_aws/retail_db/departments/part-00000.csv\n",
      "Renamed /Users/kshitijpatil/de_on_aws/retail_db/order_items/part-00000 to /Users/kshitijpatil/de_on_aws/retail_db/order_items/part-00000.csv\n",
      "Renamed /Users/kshitijpatil/de_on_aws/retail_db/orders/part-00000 to /Users/kshitijpatil/de_on_aws/retail_db/orders/part-00000.csv\n",
      "Renamed /Users/kshitijpatil/de_on_aws/retail_db/products/part-00000 to /Users/kshitijpatil/de_on_aws/retail_db/products/part-00000.csv\n"
     ]
    }
   ],
   "source": [
    "verify_and_rename_files()"
   ]
  },
  {
   "cell_type": "code",
   "execution_count": null,
   "metadata": {},
   "outputs": [
    {
     "name": "stdout",
     "output_type": "stream",
     "text": [
      "Created bucket kshitij-retail-bucket\n"
     ]
    }
   ],
   "source": [
    "create_s3_bucket()"
   ]
  },
  {
   "cell_type": "code",
   "execution_count": null,
   "metadata": {},
   "outputs": [
    {
     "name": "stdout",
     "output_type": "stream",
     "text": [
      "Uploaded /Users/kshitijpatil/de_on_aws/retail_db/categories/part-00000.csv to s3://kshitij-retail-bucket/retail_db/categories/part-00000.csv\n",
      "Uploaded /Users/kshitijpatil/de_on_aws/retail_db/customers/part-00000.csv to s3://kshitij-retail-bucket/retail_db/customers/part-00000.csv\n",
      "Uploaded /Users/kshitijpatil/de_on_aws/retail_db/departments/part-00000.csv to s3://kshitij-retail-bucket/retail_db/departments/part-00000.csv\n",
      "Uploaded /Users/kshitijpatil/de_on_aws/retail_db/order_items/part-00000.csv to s3://kshitij-retail-bucket/retail_db/order_items/part-00000.csv\n",
      "Uploaded /Users/kshitijpatil/de_on_aws/retail_db/orders/part-00000.csv to s3://kshitij-retail-bucket/retail_db/orders/part-00000.csv\n",
      "Uploaded /Users/kshitijpatil/de_on_aws/retail_db/products/part-00000.csv to s3://kshitij-retail-bucket/retail_db/products/part-00000.csv\n"
     ]
    }
   ],
   "source": [
    "upload_data_to_s3()"
   ]
  },
  {
   "cell_type": "code",
   "execution_count": null,
   "metadata": {},
   "outputs": [
    {
     "name": "stdout",
     "output_type": "stream",
     "text": [
      "Created IAM role AWSGlueRetailDBRole\n"
     ]
    },
    {
     "ename": "NoSuchEntityException",
     "evalue": "An error occurred (NoSuchEntity) when calling the AttachRolePolicy operation: Policy arn:aws:iam::aws:policy/AWSGlueServiceRole does not exist or is not attachable.",
     "output_type": "error",
     "traceback": [
      "\u001b[0;31m---------------------------------------------------------------------------\u001b[0m",
      "\u001b[0;31mNoSuchEntityException\u001b[0m                     Traceback (most recent call last)",
      "Cell \u001b[0;32mIn[19], line 1\u001b[0m\n\u001b[0;32m----> 1\u001b[0m role_arn \u001b[39m=\u001b[39m create_iam_role()\n",
      "File \u001b[1;32m/Users/kshitijpatil/de_on_aws/amazon_glue/retail_db_job.py:33\u001b[0m\n\u001b[1;32m     27\u001b[0m policies \u001b[39m=\u001b[39m [\n\u001b[1;32m     28\u001b[0m     \u001b[39m\"\u001b[39m\u001b[39marn:aws:iam::aws:policy/AWSGlueServiceRole\u001b[39m\u001b[39m\"\u001b[39m,\n\u001b[1;32m     29\u001b[0m     \u001b[39m\"\u001b[39m\u001b[39marn:aws:iam::aws:policy/AmazonS3FullAccess\u001b[39m\u001b[39m\"\u001b[39m,\n\u001b[1;32m     30\u001b[0m     \u001b[39m\"\u001b[39m\u001b[39marn:aws:iam::aws:policy/AmazonAthenaFullAccess\u001b[39m\u001b[39m\"\u001b[39m\n\u001b[1;32m     31\u001b[0m ]\n\u001b[1;32m     32\u001b[0m \u001b[39mfor\u001b[39;00m policy_arn \u001b[39min\u001b[39;00m policies:\n\u001b[0;32m---> 33\u001b[0m     iam_client\u001b[39m.\u001b[39;49mattach_role_policy(RoleName\u001b[39m=\u001b[39;49mIAM_ROLE_NAME, PolicyArn\u001b[39m=\u001b[39;49mpolicy_arn)\n\u001b[1;32m     34\u001b[0m     \u001b[39mprint\u001b[39m(\u001b[39mf\u001b[39m\u001b[39m\"\u001b[39m\u001b[39mAttached policy \u001b[39m\u001b[39m{\u001b[39;00mpolicy_arn\u001b[39m}\u001b[39;00m\u001b[39m to \u001b[39m\u001b[39m{\u001b[39;00mIAM_ROLE_NAME\u001b[39m}\u001b[39;00m\u001b[39m\"\u001b[39m)\n\u001b[1;32m     36\u001b[0m \u001b[39mreturn\u001b[39;00m role_arn\n",
      "File \u001b[0;32m~/de_on_aws/de_venv/lib/python3.9/site-packages/botocore/client.py:570\u001b[0m, in \u001b[0;36mClientCreator._create_api_method.<locals>._api_call\u001b[0;34m(self, *args, **kwargs)\u001b[0m\n\u001b[1;32m    566\u001b[0m     \u001b[39mraise\u001b[39;00m \u001b[39mTypeError\u001b[39;00m(\n\u001b[1;32m    567\u001b[0m         \u001b[39mf\u001b[39m\u001b[39m\"\u001b[39m\u001b[39m{\u001b[39;00mpy_operation_name\u001b[39m}\u001b[39;00m\u001b[39m() only accepts keyword arguments.\u001b[39m\u001b[39m\"\u001b[39m\n\u001b[1;32m    568\u001b[0m     )\n\u001b[1;32m    569\u001b[0m \u001b[39m# The \"self\" in this scope is referring to the BaseClient.\u001b[39;00m\n\u001b[0;32m--> 570\u001b[0m \u001b[39mreturn\u001b[39;00m \u001b[39mself\u001b[39;49m\u001b[39m.\u001b[39;49m_make_api_call(operation_name, kwargs)\n",
      "File \u001b[0;32m~/de_on_aws/de_venv/lib/python3.9/site-packages/botocore/context.py:124\u001b[0m, in \u001b[0;36mwith_current_context.<locals>.decorator.<locals>.wrapper\u001b[0;34m(*args, **kwargs)\u001b[0m\n\u001b[1;32m    122\u001b[0m \u001b[39mif\u001b[39;00m hook:\n\u001b[1;32m    123\u001b[0m     hook()\n\u001b[0;32m--> 124\u001b[0m \u001b[39mreturn\u001b[39;00m func(\u001b[39m*\u001b[39;49margs, \u001b[39m*\u001b[39;49m\u001b[39m*\u001b[39;49mkwargs)\n",
      "File \u001b[0;32m~/de_on_aws/de_venv/lib/python3.9/site-packages/botocore/client.py:1031\u001b[0m, in \u001b[0;36mBaseClient._make_api_call\u001b[0;34m(self, operation_name, api_params)\u001b[0m\n\u001b[1;32m   1027\u001b[0m     error_code \u001b[39m=\u001b[39m error_info\u001b[39m.\u001b[39mget(\u001b[39m\"\u001b[39m\u001b[39mQueryErrorCode\u001b[39m\u001b[39m\"\u001b[39m) \u001b[39mor\u001b[39;00m error_info\u001b[39m.\u001b[39mget(\n\u001b[1;32m   1028\u001b[0m         \u001b[39m\"\u001b[39m\u001b[39mCode\u001b[39m\u001b[39m\"\u001b[39m\n\u001b[1;32m   1029\u001b[0m     )\n\u001b[1;32m   1030\u001b[0m     error_class \u001b[39m=\u001b[39m \u001b[39mself\u001b[39m\u001b[39m.\u001b[39mexceptions\u001b[39m.\u001b[39mfrom_code(error_code)\n\u001b[0;32m-> 1031\u001b[0m     \u001b[39mraise\u001b[39;00m error_class(parsed_response, operation_name)\n\u001b[1;32m   1032\u001b[0m \u001b[39melse\u001b[39;00m:\n\u001b[1;32m   1033\u001b[0m     \u001b[39mreturn\u001b[39;00m parsed_response\n",
      "\u001b[0;31mNoSuchEntityException\u001b[0m: An error occurred (NoSuchEntity) when calling the AttachRolePolicy operation: Policy arn:aws:iam::aws:policy/AWSGlueServiceRole does not exist or is not attachable."
     ]
    }
   ],
   "source": [
    "role_arn = create_iam_role()"
   ]
  },
  {
   "cell_type": "code",
   "execution_count": null,
   "metadata": {},
   "outputs": [],
   "source": [
    "role_arn = \"arn:aws:iam::387082969034:role/AWSGlueServiceRole\""
   ]
  },
  {
   "cell_type": "code",
   "execution_count": null,
   "metadata": {},
   "outputs": [
    {
     "name": "stdout",
     "output_type": "stream",
     "text": [
      "Created Glue database retail_db\n"
     ]
    }
   ],
   "source": [
    "create_glue_database()"
   ]
  },
  {
   "cell_type": "code",
   "execution_count": null,
   "metadata": {},
   "outputs": [
    {
     "name": "stdout",
     "output_type": "stream",
     "text": [
      "Created crawler retail_db_crawler\n",
      "Started crawler retail_db_crawler\n",
      "Crawler retail_db_crawler is RUNNING...\n",
      "Crawler retail_db_crawler is RUNNING...\n",
      "Crawler retail_db_crawler is RUNNING...\n",
      "Crawler retail_db_crawler is RUNNING...\n",
      "Crawler retail_db_crawler is RUNNING...\n",
      "Crawler retail_db_crawler is RUNNING...\n",
      "Crawler retail_db_crawler is RUNNING...\n",
      "Crawler retail_db_crawler is RUNNING...\n",
      "Crawler retail_db_crawler is STOPPING...\n",
      "Crawler retail_db_crawler is STOPPING...\n",
      "Crawler retail_db_crawler is STOPPING...\n",
      "Crawler retail_db_crawler is STOPPING...\n",
      "Crawler retail_db_crawler is STOPPING...\n",
      "Crawler retail_db_crawler is STOPPING...\n",
      "Crawler retail_db_crawler completed\n"
     ]
    }
   ],
   "source": [
    "create_glue_crawler(role_arn)"
   ]
  },
  {
   "cell_type": "code",
   "execution_count": null,
   "metadata": {},
   "outputs": [
    {
     "name": "stdout",
     "output_type": "stream",
     "text": [
      "Configured Athena results location to s3://kshitij-retail-bucket/athena-results/\n"
     ]
    }
   ],
   "source": [
    "configure_athena()"
   ]
  },
  {
   "cell_type": "code",
   "execution_count": null,
   "metadata": {},
   "outputs": [
    {
     "name": "stdout",
     "output_type": "stream",
     "text": [
      "Setup complete! You can now query the retail_db database in Athena.\n"
     ]
    }
   ],
   "source": [
    "print(\"Setup complete! You can now query the retail_db database in Athena.\")\n"
   ]
  },
  {
   "cell_type": "code",
   "execution_count": null,
   "id": "ae168043-c927-4b70-8e9d-a74a911bcae9",
   "metadata": {},
   "outputs": [],
   "source": [
    "import boto3\n",
    "import os\n",
    "import time\n",
    "import json\n",
    "import csv\n",
    "\n",
    "# Configuration\n",
    "LOCAL_DATA_PATH = \"/Users/kshitijpatil/de_on_aws/retail_db\"\n",
    "BUCKET_NAME = \"kshitij-retail-bucket\"  # Must be globally unique\n",
    "REGION = \"ap-southeast-2\"  # Change to your preferred region\n",
    "DATABASE_NAME = \"retail_db\"\n",
    "CRAWLER_NAME = \"retail_db_crawler\"\n",
    "IAM_ROLE_NAME = \"AWSGlueRetailDBRole\"\n",
    "S3_DATA_PATH = f\"s3://{BUCKET_NAME}/retail_db/\"\n",
    "ATHENA_RESULTS_PATH = f\"s3://{BUCKET_NAME}/athena-results/\"\n",
    "FILE_EXTENSION = \".csv\"  # Change to \".json\" or \".parquet\" if needed\n",
    "\n",
    "# AWS Clients\n",
    "s3_client = boto3.client(\"s3\", region_name=REGION)\n",
    "iam_client = boto3.client(\"iam\")\n",
    "glue_client = boto3.client(\"glue\", region_name=REGION)\n",
    "athena_client = boto3.client(\"athena\", region_name=REGION)\n",
    "\n",
    "\n",
    "# Table column definitions based on PostgreSQL scripts\n",
    "TABLE_COLUMNS = {\n",
    "    \"departments\": [\"department_id\", \"department_name\"],\n",
    "    \"categories\": [\"category_id\", \"category_department_id\", \"category_name\"],\n",
    "    \"products\": [\"product_id\", \"product_category_id\", \"product_name\", \"product_description\", \"product_price\", \"product_image\"],\n",
    "    \"customers\": [\"customer_id\", \"customer_fname\", \"customer_lname\", \"customer_email\", \"customer_password\", \"customer_street\", \"customer_city\", \"customer_state\", \"customer_zipcode\"],\n",
    "    \"orders\": [\"order_id\", \"order_date\", \"order_customer_id\", \"order_status\"],\n",
    "    \"order_items\": [\"order_item_id\", \"order_item_order_id\", \"order_item_product_id\", \"order_item_quantity\", \"order_item_subtotal\", \"order_item_product_price\"]\n",
    "}"
   ]
  },
  {
   "cell_type": "code",
   "execution_count": null,
   "id": "7ea33da7-1c3d-41cc-a214-d96ec442ed86",
   "metadata": {},
   "outputs": [],
   "source": [
    "def add_headers_to_files():\n",
    "    \"\"\"Add headers to part-00000 files based on table definitions and rename with .csv.\"\"\"\n",
    "    for table, columns in TABLE_COLUMNS.items():\n",
    "        file_path = os.path.join(LOCAL_DATA_PATH, table, \"part-00000\")\n",
    "        if os.path.exists(file_path):\n",
    "            # Read existing data\n",
    "            with open(file_path, 'r') as infile:\n",
    "                reader = csv.reader(infile)\n",
    "                rows = list(reader)\n",
    "            \n",
    "            # Add headers and write back\n",
    "            with open(file_path, 'w', newline='') as outfile:\n",
    "                writer = csv.writer(outfile)\n",
    "                writer.writerow(columns)  # Write headers\n",
    "                writer.writerows(rows)    # Write existing data\n",
    "            \n",
    "            # Rename file with .csv extension\n",
    "            new_file_path = file_path + FILE_EXTENSION\n",
    "            os.rename(file_path, new_file_path)\n",
    "            print(f\"Added headers and renamed {file_path} to {new_file_path}\")\n",
    "        else:\n",
    "            print(f\"File {file_path} not found\")\n",
    "            raise Exception(f\"Missing data file in {table}\")"
   ]
  },
  {
   "cell_type": "code",
   "execution_count": null,
   "id": "52a7086f-306d-41e8-8764-cf39c44e8bda",
   "metadata": {},
   "outputs": [],
   "source": [
    "def create_s3_bucket():\n",
    "    \"\"\"Create S3 bucket if it doesn't exist.\"\"\"\n",
    "    try:\n",
    "        s3_client.head_bucket(Bucket=BUCKET_NAME)\n",
    "        print(f\"Bucket {BUCKET_NAME} already exists\")\n",
    "    except s3_client.exceptions.ClientError:\n",
    "        s3_client.create_bucket(\n",
    "            Bucket=BUCKET_NAME,\n",
    "            CreateBucketConfiguration={\"LocationConstraint\": REGION}\n",
    "        )\n",
    "        print(f\"Created bucket {BUCKET_NAME}\")"
   ]
  },
  {
   "cell_type": "code",
   "execution_count": null,
   "id": "d5165477-7be9-4d43-9f3a-10073b5d5094",
   "metadata": {},
   "outputs": [],
   "source": [
    "def upload_data_to_s3():\n",
    "    \"\"\"Upload data directories to S3.\"\"\"\n",
    "    for table in TABLE_COLUMNS.keys():\n",
    "        local_dir = os.path.join(LOCAL_DATA_PATH, table)\n",
    "        for file_name in os.listdir(local_dir):\n",
    "            if file_name.endswith(FILE_EXTENSION):\n",
    "                local_file = os.path.join(local_dir, file_name)\n",
    "                s3_key = f\"retail_db/{table}/{file_name}\"\n",
    "                s3_client.upload_file(local_file, BUCKET_NAME, s3_key)\n",
    "                print(f\"Uploaded {local_file} to s3://{BUCKET_NAME}/{s3_key}\")"
   ]
  },
  {
   "cell_type": "code",
   "execution_count": null,
   "id": "ded8bbd4-fad2-402a-8091-21954c9dcdc8",
   "metadata": {},
   "outputs": [],
   "source": [
    "def create_iam_role():\n",
    "    \"\"\"Create IAM role for AWS Glue.\"\"\"\n",
    "    trust_policy = {\n",
    "        \"Version\": \"2012-10-17\",\n",
    "        \"Statement\": [\n",
    "            {\n",
    "                \"Effect\": \"Allow\",\n",
    "                \"Principal\": {\"Service\": \"glue.amazonaws.com\"},\n",
    "                \"Action\": \"sts:AssumeRole\"\n",
    "            }\n",
    "        ]\n",
    "    }\n",
    "    try:\n",
    "        response = iam_client.create_role(\n",
    "            RoleName=IAM_ROLE_NAME,\n",
    "            AssumeRolePolicyDocument=json.dumps(trust_policy)\n",
    "        )\n",
    "        role_arn = response[\"Role\"][\"Arn\"]\n",
    "        print(f\"Created IAM role {IAM_ROLE_NAME}\")\n",
    "    except iam_client.exceptions.EntityAlreadyExistsException:\n",
    "        role_arn = f\"arn:aws:iam::{boto3.client('sts').get_caller_identity()['Account']}:role/{IAM_ROLE_NAME}\"\n",
    "        print(f\"IAM role {IAM_ROLE_NAME} already exists\")\n",
    "\n",
    "    policies = [\n",
    "        \"arn:aws:iam::aws:policy/AWSGlueServiceRole\",\n",
    "        \"arn:aws:iam::aws:policy/AmazonS3FullAccess\",\n",
    "        \"arn:aws:iam::aws:policy/AmazonAthenaFullAccess\"\n",
    "    ]\n",
    "    for policy_arn in policies:\n",
    "        iam_client.attach_role_policy(RoleName=IAM_ROLE_NAME, PolicyArn=policy_arn)\n",
    "        print(f\"Attached policy {policy_arn} to {IAM_ROLE_NAME}\")\n",
    "\n",
    "    return role_arn"
   ]
  },
  {
   "cell_type": "code",
   "execution_count": null,
   "id": "67069486-5c7c-437c-ae1c-1c1524310c44",
   "metadata": {},
   "outputs": [],
   "source": [
    "def create_glue_database():\n",
    "    \"\"\"Create Glue database.\"\"\"\n",
    "    try:\n",
    "        glue_client.create_database(DatabaseInput={\"Name\": DATABASE_NAME})\n",
    "        print(f\"Created Glue database {DATABASE_NAME}\")\n",
    "    except glue_client.exceptions.AlreadyExistsException:\n",
    "        print(f\"Glue database {DATABASE_NAME} already exists\")"
   ]
  },
  {
   "cell_type": "code",
   "execution_count": null,
   "id": "18959a9d-23b9-4ac3-8114-27a9fa5b5155",
   "metadata": {},
   "outputs": [],
   "source": [
    "def create_glue_crawler(role_arn):\n",
    "    \"\"\"Create and run Glue crawler.\"\"\"\n",
    "    crawler_config = {\n",
    "        \"Name\": CRAWLER_NAME,\n",
    "        \"Role\": role_arn,\n",
    "        \"DatabaseName\": DATABASE_NAME,\n",
    "        \"Targets\": {\n",
    "            \"S3Targets\": [{\"Path\": S3_DATA_PATH}]\n",
    "        },\n",
    "        \"SchemaChangePolicy\": {\n",
    "            \"UpdateBehavior\": \"UPDATE_IN_DATABASE\",\n",
    "            \"DeleteBehavior\": \"DEPRECATE_IN_DATABASE\"\n",
    "        }\n",
    "    }\n",
    "    try:\n",
    "        glue_client.create_crawler(**crawler_config)\n",
    "        print(f\"Created crawler {CRAWLER_NAME}\")\n",
    "    except glue_client.exceptions.AlreadyExistsException:\n",
    "        print(f\"Crawler {CRAWLER_NAME} already exists\")\n",
    "\n",
    "    glue_client.start_crawler(Name=CRAWLER_NAME)\n",
    "    print(f\"Started crawler {CRAWLER_NAME}\")\n",
    "\n",
    "    while True:\n",
    "        response = glue_client.get_crawler(Name=CRAWLER_NAME)\n",
    "        state = response[\"Crawler\"][\"State\"]\n",
    "        if state == \"READY\":\n",
    "            print(f\"Crawler {CRAWLER_NAME} completed\")\n",
    "            break\n",
    "        print(f\"Crawler {CRAWLER_NAME} is {state}...\")\n",
    "        time.sleep(10)"
   ]
  },
  {
   "cell_type": "code",
   "execution_count": null,
   "id": "3c983e79-7391-423d-954c-876193dc06f6",
   "metadata": {},
   "outputs": [],
   "source": [
    "def configure_athena():\n",
    "    \"\"\"Configure Athena query results location.\"\"\"\n",
    "    try:\n",
    "        athena_client.update_work_group(\n",
    "            WorkGroup=\"primary\",\n",
    "            ConfigurationUpdates={\n",
    "                \"ResultConfigurationUpdates\": {\n",
    "                    \"OutputLocation\": ATHENA_RESULTS_PATH\n",
    "                }\n",
    "            }\n",
    "        )\n",
    "        print(f\"Configured Athena results location to {ATHENA_RESULTS_PATH}\")\n",
    "    except Exception as e:\n",
    "        print(f\"Error configuring Athena: {e}\")"
   ]
  },
  {
   "cell_type": "code",
   "execution_count": null,
   "metadata": {},
   "outputs": [
    {
     "name": "stdout",
     "output_type": "stream",
     "text": [
      "Starting setup process...\n"
     ]
    }
   ],
   "source": [
    "print(\"Starting setup process...\")\n"
   ]
  },
  {
   "cell_type": "code",
   "execution_count": null,
   "id": "02e8fd26-3bd8-4c0c-858b-7f044cc9143c",
   "metadata": {},
   "outputs": [],
   "source": [
    "def add_headers_to_files():\n",
    "    \"\"\"Add headers to part-00000 files based on table definitions and rename with .csv.\"\"\"\n",
    "    for table, columns in TABLE_COLUMNS.items():\n",
    "        file_path = os.path.join(LOCAL_DATA_PATH, table, \"part-00000.csv\")\n",
    "        if os.path.exists(file_path):\n",
    "            # Read existing data\n",
    "            with open(file_path, 'r') as infile:\n",
    "                reader = csv.reader(infile)\n",
    "                rows = list(reader)\n",
    "            \n",
    "            # Add headers and write back\n",
    "            with open(file_path, 'w', newline='') as outfile:\n",
    "                writer = csv.writer(outfile)\n",
    "                writer.writerow(columns)  # Write headers\n",
    "                writer.writerows(rows)    # Write existing data\n",
    "            \n",
    "            # Rename file with .csv extension\n",
    "            new_file_path = file_path + FILE_EXTENSION\n",
    "            os.rename(file_path, new_file_path)\n",
    "            print(f\"Added headers and renamed {file_path} to {new_file_path}\")\n",
    "        else:\n",
    "            print(f\"File {file_path} not found\")\n",
    "            raise Exception(f\"Missing data file in {table}\")"
   ]
  },
  {
   "cell_type": "code",
   "execution_count": null,
   "metadata": {},
   "outputs": [
    {
     "name": "stdout",
     "output_type": "stream",
     "text": [
      "Added headers and renamed /Users/kshitijpatil/de_on_aws/retail_db/departments/part-00000.csv to /Users/kshitijpatil/de_on_aws/retail_db/departments/part-00000.csv.csv\n",
      "Added headers and renamed /Users/kshitijpatil/de_on_aws/retail_db/categories/part-00000.csv to /Users/kshitijpatil/de_on_aws/retail_db/categories/part-00000.csv.csv\n",
      "Added headers and renamed /Users/kshitijpatil/de_on_aws/retail_db/products/part-00000.csv to /Users/kshitijpatil/de_on_aws/retail_db/products/part-00000.csv.csv\n",
      "Added headers and renamed /Users/kshitijpatil/de_on_aws/retail_db/customers/part-00000.csv to /Users/kshitijpatil/de_on_aws/retail_db/customers/part-00000.csv.csv\n",
      "Added headers and renamed /Users/kshitijpatil/de_on_aws/retail_db/orders/part-00000.csv to /Users/kshitijpatil/de_on_aws/retail_db/orders/part-00000.csv.csv\n",
      "Added headers and renamed /Users/kshitijpatil/de_on_aws/retail_db/order_items/part-00000.csv to /Users/kshitijpatil/de_on_aws/retail_db/order_items/part-00000.csv.csv\n"
     ]
    }
   ],
   "source": [
    "add_headers_to_files()"
   ]
  },
  {
   "cell_type": "code",
   "execution_count": null,
   "metadata": {},
   "outputs": [
    {
     "name": "stdout",
     "output_type": "stream",
     "text": [
      "Bucket kshitij-retail-bucket already exists\n"
     ]
    }
   ],
   "source": [
    "create_s3_bucket()"
   ]
  },
  {
   "cell_type": "code",
   "execution_count": null,
   "metadata": {},
   "outputs": [
    {
     "name": "stdout",
     "output_type": "stream",
     "text": [
      "Uploaded /Users/kshitijpatil/de_on_aws/retail_db/departments/part-00000.csv.csv to s3://kshitij-retail-bucket/retail_db/departments/part-00000.csv.csv\n",
      "Uploaded /Users/kshitijpatil/de_on_aws/retail_db/categories/part-00000.csv.csv to s3://kshitij-retail-bucket/retail_db/categories/part-00000.csv.csv\n",
      "Uploaded /Users/kshitijpatil/de_on_aws/retail_db/products/part-00000.csv.csv to s3://kshitij-retail-bucket/retail_db/products/part-00000.csv.csv\n",
      "Uploaded /Users/kshitijpatil/de_on_aws/retail_db/customers/part-00000.csv.csv to s3://kshitij-retail-bucket/retail_db/customers/part-00000.csv.csv\n",
      "Uploaded /Users/kshitijpatil/de_on_aws/retail_db/orders/part-00000.csv.csv to s3://kshitij-retail-bucket/retail_db/orders/part-00000.csv.csv\n",
      "Uploaded /Users/kshitijpatil/de_on_aws/retail_db/order_items/part-00000.csv.csv to s3://kshitij-retail-bucket/retail_db/order_items/part-00000.csv.csv\n"
     ]
    }
   ],
   "source": [
    "upload_data_to_s3()"
   ]
  },
  {
   "cell_type": "code",
   "execution_count": null,
   "metadata": {},
   "outputs": [
    {
     "name": "stdout",
     "output_type": "stream",
     "text": [
      "Headers already exist in /Users/kshitijpatil/de_on_aws/retail_db/departments/part-00000\n",
      "Using existing headers for /Users/kshitijpatil/de_on_aws/retail_db/departments/part-00000.csv\n",
      "Headers already exist in /Users/kshitijpatil/de_on_aws/retail_db/categories/part-00000\n",
      "Using existing headers for /Users/kshitijpatil/de_on_aws/retail_db/categories/part-00000.csv\n",
      "Headers already exist in /Users/kshitijpatil/de_on_aws/retail_db/products/part-00000\n",
      "Using existing headers for /Users/kshitijpatil/de_on_aws/retail_db/products/part-00000.csv\n",
      "Headers already exist in /Users/kshitijpatil/de_on_aws/retail_db/customers/part-00000\n",
      "Using existing headers for /Users/kshitijpatil/de_on_aws/retail_db/customers/part-00000.csv\n",
      "Headers already exist in /Users/kshitijpatil/de_on_aws/retail_db/orders/part-00000\n",
      "Using existing headers for /Users/kshitijpatil/de_on_aws/retail_db/orders/part-00000.csv\n",
      "Headers already exist in /Users/kshitijpatil/de_on_aws/retail_db/order_items/part-00000\n",
      "Using existing headers for /Users/kshitijpatil/de_on_aws/retail_db/order_items/part-00000.csv\n"
     ]
    }
   ],
   "source": [
    "add_headers_to_files()"
   ]
  },
  {
   "cell_type": "code",
   "execution_count": null,
   "metadata": {},
   "outputs": [
    {
     "name": "stdout",
     "output_type": "stream",
     "text": [
      "Bucket kshitij-retail-bucket already exists\n"
     ]
    }
   ],
   "source": [
    "create_s3_bucket()\n"
   ]
  },
  {
   "cell_type": "code",
   "execution_count": null,
   "metadata": {},
   "outputs": [
    {
     "name": "stdout",
     "output_type": "stream",
     "text": [
      "Uploaded /Users/kshitijpatil/de_on_aws/retail_db/departments/part-00000.csv to s3://kshitij-retail-bucket/retail_db/departments/part-00000.csv\n",
      "Uploaded /Users/kshitijpatil/de_on_aws/retail_db/categories/part-00000.csv to s3://kshitij-retail-bucket/retail_db/categories/part-00000.csv\n",
      "Uploaded /Users/kshitijpatil/de_on_aws/retail_db/products/part-00000.csv to s3://kshitij-retail-bucket/retail_db/products/part-00000.csv\n",
      "Uploaded /Users/kshitijpatil/de_on_aws/retail_db/customers/part-00000.csv to s3://kshitij-retail-bucket/retail_db/customers/part-00000.csv\n",
      "Uploaded /Users/kshitijpatil/de_on_aws/retail_db/orders/part-00000.csv to s3://kshitij-retail-bucket/retail_db/orders/part-00000.csv\n",
      "Uploaded /Users/kshitijpatil/de_on_aws/retail_db/order_items/part-00000.csv to s3://kshitij-retail-bucket/retail_db/order_items/part-00000.csv\n"
     ]
    }
   ],
   "source": [
    "upload_data_to_s3()"
   ]
  },
  {
   "cell_type": "code",
   "execution_count": null,
   "metadata": {},
   "outputs": [],
   "source": [
    "role_arn = \"arn:aws:iam::387082969034:role/AWSGlueServiceRole\"\n"
   ]
  },
  {
   "cell_type": "code",
   "execution_count": null,
   "metadata": {},
   "outputs": [
    {
     "name": "stdout",
     "output_type": "stream",
     "text": [
      "Glue database retail_db already exists\n"
     ]
    }
   ],
   "source": [
    "create_glue_database()"
   ]
  },
  {
   "cell_type": "code",
   "execution_count": null,
   "metadata": {},
   "outputs": [
    {
     "name": "stdout",
     "output_type": "stream",
     "text": [
      "Crawler retail_db_crawler already exists\n",
      "Started crawler retail_db_crawler\n",
      "Crawler retail_db_crawler is RUNNING...\n",
      "Crawler retail_db_crawler is RUNNING...\n",
      "Crawler retail_db_crawler is RUNNING...\n",
      "Crawler retail_db_crawler is RUNNING...\n",
      "Crawler retail_db_crawler is RUNNING...\n",
      "Crawler retail_db_crawler is RUNNING...\n",
      "Crawler retail_db_crawler is STOPPING...\n",
      "Crawler retail_db_crawler is STOPPING...\n",
      "Crawler retail_db_crawler is STOPPING...\n",
      "Crawler retail_db_crawler is STOPPING...\n",
      "Crawler retail_db_crawler is STOPPING...\n",
      "Crawler retail_db_crawler is STOPPING...\n",
      "Crawler retail_db_crawler is STOPPING...\n",
      "Crawler retail_db_crawler completed\n"
     ]
    }
   ],
   "source": [
    "create_glue_crawler(role_arn)"
   ]
  },
  {
   "cell_type": "code",
   "execution_count": null,
   "metadata": {},
   "outputs": [
    {
     "name": "stdout",
     "output_type": "stream",
     "text": [
      "Configured Athena results location to s3://kshitij-retail-bucket/athena-results/\n"
     ]
    }
   ],
   "source": [
    "configure_athena()"
   ]
  },
  {
   "cell_type": "code",
   "execution_count": null,
   "metadata": {},
   "outputs": [
    {
     "name": "stdout",
     "output_type": "stream",
     "text": [
      "Setup complete! You can now query the retail_db database in Athena.\n"
     ]
    }
   ],
   "source": [
    "print(\"Setup complete! You can now query the retail_db database in Athena.\")"
   ]
  },
  {
   "cell_type": "markdown",
   "metadata": {},
   "source": [
    "No kernel connected"
   ]
  },
  {
   "cell_type": "markdown",
   "metadata": {},
   "source": [
    "No kernel connected"
   ]
  }
 ],
 "metadata": {
  "language_info": {
   "codemirror_mode": {
    "name": "ipython",
    "version": 3
   },
   "file_extension": ".py",
   "mimetype": "text/x-python",
   "name": "python",
   "nbconvert_exporter": "python",
   "pygments_lexer": "ipython3",
   "version": 3
  }
 },
 "nbformat": 4,
 "nbformat_minor": 2
}
