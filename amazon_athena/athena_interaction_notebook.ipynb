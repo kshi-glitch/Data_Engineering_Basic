{
 "cells": [
  {
   "cell_type": "code",
   "execution_count": null,
   "id": "db257677-d725-4989-81cf-0fd889763959",
   "metadata": {},
   "outputs": [],
   "source": [
    "#%%\n",
    "\n",
    "import boto3\n",
    "\n",
    "athena  = boto3.client('athena')"
   ]
  },
  {
   "cell_type": "code",
   "execution_count": null,
   "metadata": {},
   "outputs": [
    {
     "data": {
      "text/plain": [
       "<botocore.client.Athena at 0x11008a790>"
      ]
     },
     "execution_count": 4,
     "metadata": {},
     "output_type": "execute_result"
    }
   ],
   "source": [
    "athena"
   ]
  },
  {
   "cell_type": "code",
   "execution_count": null,
   "metadata": {},
   "outputs": [],
   "source": [
    "athena_client  = boto3.client('athena')"
   ]
  },
  {
   "cell_type": "code",
   "execution_count": null,
   "metadata": {},
   "outputs": [
    {
     "data": {
      "text/plain": [
       "{'WorkGroups': [{'Name': 'primary',\n",
       "   'State': 'ENABLED',\n",
       "   'Description': '',\n",
       "   'CreationTime': datetime.datetime(2025, 4, 21, 1, 39, 6, 36000, tzinfo=tzlocal()),\n",
       "   'EngineVersion': {'SelectedEngineVersion': 'AUTO',\n",
       "    'EffectiveEngineVersion': 'Athena engine version 3'}}],\n",
       " 'ResponseMetadata': {'RequestId': '6163e554-a202-4cde-a729-6a8c81a2d11a',\n",
       "  'HTTPStatusCode': 200,\n",
       "  'HTTPHeaders': {'date': 'Fri, 02 May 2025 02:59:16 GMT',\n",
       "   'content-type': 'application/x-amz-json-1.1',\n",
       "   'content-length': '222',\n",
       "   'connection': 'keep-alive',\n",
       "   'x-amzn-requestid': '6163e554-a202-4cde-a729-6a8c81a2d11a'},\n",
       "  'RetryAttempts': 0}}"
      ]
     },
     "execution_count": 7,
     "metadata": {},
     "output_type": "execute_result"
    }
   ],
   "source": [
    "athena_client.list_work_groups()\n"
   ]
  },
  {
   "cell_type": "code",
   "execution_count": null,
   "id": "3fe5bcd9-9e4d-4082-ae76-eb2571889624",
   "metadata": {},
   "outputs": [
    {
     "data": {
      "text/plain": [
       "{'DatabaseList': [{'Name': 'default'},\n",
       "  {'Name': 'ghlandingdb'},\n",
       "  {'Name': 'myretail'},\n",
       "  {'Name': 'retail_db'},\n",
       "  {'Name': 'studio_widget_simulatedclickstream_1745866873000_db'}],\n",
       " 'ResponseMetadata': {'RequestId': '47eba360-e151-4587-9c31-19768e1437be',\n",
       "  'HTTPStatusCode': 200,\n",
       "  'HTTPHeaders': {'date': 'Fri, 02 May 2025 03:04:23 GMT',\n",
       "   'content-type': 'application/x-amz-json-1.1',\n",
       "   'content-length': '164',\n",
       "   'connection': 'keep-alive',\n",
       "   'x-amzn-requestid': '47eba360-e151-4587-9c31-19768e1437be'},\n",
       "  'RetryAttempts': 0}}"
      ]
     },
     "execution_count": 16,
     "metadata": {},
     "output_type": "execute_result"
    }
   ],
   "source": [
    "#%%\n",
    "\n",
    "CatalogName = 'AWSDataCatalog'\n",
    "athena_client.list_databases(CatalogName = CatalogName)"
   ]
  },
  {
   "cell_type": "code",
   "execution_count": null,
   "metadata": {},
   "outputs": [
    {
     "data": {
      "text/plain": [
       "botocore.client.Athena"
      ]
     },
     "execution_count": 17,
     "metadata": {},
     "output_type": "execute_result"
    }
   ],
   "source": [
    "type(athena_client)"
   ]
  },
  {
   "cell_type": "code",
   "execution_count": null,
   "metadata": {},
   "outputs": [],
   "source": [
    "databases = athena_client.list_databases(CatalogName = CatalogName)\n"
   ]
  },
  {
   "cell_type": "code",
   "execution_count": null,
   "metadata": {},
   "outputs": [
    {
     "data": {
      "text/plain": [
       "dict"
      ]
     },
     "execution_count": 20,
     "metadata": {},
     "output_type": "execute_result"
    }
   ],
   "source": [
    "type(databases)"
   ]
  },
  {
   "cell_type": "code",
   "execution_count": null,
   "metadata": {},
   "outputs": [],
   "source": [
    "list_databases = databases['DatabaseList']"
   ]
  },
  {
   "cell_type": "code",
   "execution_count": null,
   "metadata": {},
   "outputs": [
    {
     "data": {
      "text/plain": [
       "[{'Name': 'default'},\n",
       " {'Name': 'ghlandingdb'},\n",
       " {'Name': 'myretail'},\n",
       " {'Name': 'retail_db'},\n",
       " {'Name': 'studio_widget_simulatedclickstream_1745866873000_db'}]"
      ]
     },
     "execution_count": 22,
     "metadata": {},
     "output_type": "execute_result"
    }
   ],
   "source": [
    "list_databases"
   ]
  },
  {
   "cell_type": "code",
   "execution_count": null,
   "metadata": {},
   "outputs": [
    {
     "data": {
      "text/plain": [
       "list"
      ]
     },
     "execution_count": 24,
     "metadata": {},
     "output_type": "execute_result"
    }
   ],
   "source": [
    "type(list_databases)"
   ]
  },
  {
   "cell_type": "code",
   "execution_count": null,
   "metadata": {},
   "outputs": [
    {
     "data": {
      "text/plain": [
       "{'Name': 'default'}"
      ]
     },
     "execution_count": 25,
     "metadata": {},
     "output_type": "execute_result"
    }
   ],
   "source": [
    "list_databases[0]"
   ]
  },
  {
   "cell_type": "code",
   "execution_count": null,
   "id": "809a07e5-9539-40bd-83b6-049f956e86ea",
   "metadata": {},
   "outputs": [
    {
     "name": "stdout",
     "output_type": "stream",
     "text": [
      "{'Name': 'default'}\n",
      "{'Name': 'ghlandingdb'}\n",
      "{'Name': 'myretail'}\n",
      "{'Name': 'retail_db'}\n",
      "{'Name': 'studio_widget_simulatedclickstream_1745866873000_db'}\n"
     ]
    }
   ],
   "source": [
    "#%%\n",
    "\n",
    "for name in list_databases:\n",
    "    print(name)"
   ]
  },
  {
   "cell_type": "code",
   "execution_count": null,
   "metadata": {},
   "outputs": [
    {
     "data": {
      "text/plain": [
       "{'DatabaseList': [{'Name': 'default'},\n",
       "  {'Name': 'ghlandingdb'},\n",
       "  {'Name': 'myretail'},\n",
       "  {'Name': 'retail_db'},\n",
       "  {'Name': 'studio_widget_simulatedclickstream_1745866873000_db'}],\n",
       " 'ResponseMetadata': {'RequestId': '8b6d7fdb-74c2-4ac9-b95d-127c7f33f551',\n",
       "  'HTTPStatusCode': 200,\n",
       "  'HTTPHeaders': {'date': 'Fri, 02 May 2025 03:14:16 GMT',\n",
       "   'content-type': 'application/x-amz-json-1.1',\n",
       "   'content-length': '164',\n",
       "   'connection': 'keep-alive',\n",
       "   'x-amzn-requestid': '8b6d7fdb-74c2-4ac9-b95d-127c7f33f551'},\n",
       "  'RetryAttempts': 0}}"
      ]
     },
     "execution_count": 29,
     "metadata": {},
     "output_type": "execute_result"
    }
   ],
   "source": [
    "databases"
   ]
  },
  {
   "cell_type": "code",
   "execution_count": null,
   "metadata": {},
   "outputs": [
    {
     "data": {
      "text/plain": [
       "['default',\n",
       " 'ghlandingdb',\n",
       " 'myretail',\n",
       " 'retail_db',\n",
       " 'studio_widget_simulatedclickstream_1745866873000_db']"
      ]
     },
     "execution_count": 30,
     "metadata": {},
     "output_type": "execute_result"
    }
   ],
   "source": [
    "[database['Name'] for database in databases['DatabaseList']]"
   ]
  },
  {
   "cell_type": "code",
   "execution_count": null,
   "id": "904471ad-b662-4dfd-a6d4-9c637969d71a",
   "metadata": {},
   "outputs": [],
   "source": [
    "#%%\n",
    "\n",
    "name_db = []\n",
    "for database in list_databases:\n",
    "    x = database['Name']\n",
    "    name_db.append(x)"
   ]
  },
  {
   "cell_type": "code",
   "execution_count": null,
   "metadata": {},
   "outputs": [
    {
     "data": {
      "text/plain": [
       "['default',\n",
       " 'ghlandingdb',\n",
       " 'myretail',\n",
       " 'retail_db',\n",
       " 'studio_widget_simulatedclickstream_1745866873000_db']"
      ]
     },
     "execution_count": 32,
     "metadata": {},
     "output_type": "execute_result"
    }
   ],
   "source": [
    "name_db"
   ]
  },
  {
   "cell_type": "code",
   "execution_count": null,
   "id": "34163393-2da2-4c99-8456-793ccb072507",
   "metadata": {},
   "outputs": [],
   "source": [
    "# %%\n",
    "\n",
    "name_db = [database['Name'] for database in list_databases]"
   ]
  },
  {
   "cell_type": "code",
   "execution_count": null,
   "metadata": {},
   "outputs": [
    {
     "data": {
      "text/plain": [
       "['default',\n",
       " 'ghlandingdb',\n",
       " 'myretail',\n",
       " 'retail_db',\n",
       " 'studio_widget_simulatedclickstream_1745866873000_db']"
      ]
     },
     "execution_count": 34,
     "metadata": {},
     "output_type": "execute_result"
    }
   ],
   "source": [
    "name_db"
   ]
  },
  {
   "cell_type": "code",
   "execution_count": null,
   "metadata": {},
   "outputs": [],
   "source": [
    "database_name = name_db[3]"
   ]
  },
  {
   "cell_type": "code",
   "execution_count": null,
   "metadata": {},
   "outputs": [
    {
     "data": {
      "text/plain": [
       "'retail_db'"
      ]
     },
     "execution_count": 36,
     "metadata": {},
     "output_type": "execute_result"
    }
   ],
   "source": [
    "database_name"
   ]
  },
  {
   "cell_type": "code",
   "execution_count": null,
   "metadata": {},
   "outputs": [
    {
     "name": "stdout",
     "output_type": "stream",
     "text": [
      "\u001b[0;31mSignature:\u001b[0m \u001b[0mathena_client\u001b[0m\u001b[0;34m.\u001b[0m\u001b[0mlist_table_metadata\u001b[0m\u001b[0;34m(\u001b[0m\u001b[0;34m*\u001b[0m\u001b[0margs\u001b[0m\u001b[0;34m,\u001b[0m \u001b[0;34m**\u001b[0m\u001b[0mkwargs\u001b[0m\u001b[0;34m)\u001b[0m\u001b[0;34m\u001b[0m\u001b[0;34m\u001b[0m\u001b[0m\n",
      "\u001b[0;31mDocstring:\u001b[0m\n",
      "Lists the metadata for the tables in the specified data catalog database.\n",
      "\n",
      "\n",
      "\n",
      "See also: `AWS API Documentation <https://docs.aws.amazon.com/goto/WebAPI/athena-2017-05-18/ListTableMetadata>`_\n",
      "\n",
      "\n",
      "**Request Syntax**\n",
      "::\n",
      "\n",
      "  response = client.list_table_metadata(\n",
      "      CatalogName='string',\n",
      "      DatabaseName='string',\n",
      "      Expression='string',\n",
      "      NextToken='string',\n",
      "      MaxResults=123,\n",
      "      WorkGroup='string'\n",
      "  )\n",
      "  \n",
      ":type CatalogName: string\n",
      ":param CatalogName: **[REQUIRED]** \n",
      "\n",
      "  The name of the data catalog for which table metadata should be returned.\n",
      "\n",
      "  \n",
      "\n",
      "\n",
      ":type DatabaseName: string\n",
      ":param DatabaseName: **[REQUIRED]** \n",
      "\n",
      "  The name of the database for which table metadata should be returned.\n",
      "\n",
      "  \n",
      "\n",
      "\n",
      ":type Expression: string\n",
      ":param Expression: \n",
      "\n",
      "  A regex filter that pattern-matches table names. If no expression is supplied, metadata for all tables are listed.\n",
      "\n",
      "  \n",
      "\n",
      "\n",
      ":type NextToken: string\n",
      ":param NextToken: \n",
      "\n",
      "  A token generated by the Athena service that specifies where to continue pagination if a previous request was truncated. To obtain the next set of pages, pass in the NextToken from the response object of the previous page call.\n",
      "\n",
      "  \n",
      "\n",
      "\n",
      ":type MaxResults: integer\n",
      ":param MaxResults: \n",
      "\n",
      "  Specifies the maximum number of results to return.\n",
      "\n",
      "  \n",
      "\n",
      "\n",
      ":type WorkGroup: string\n",
      ":param WorkGroup: \n",
      "\n",
      "  The name of the workgroup for which the metadata is being fetched. Required if requesting an IAM Identity Center enabled Glue Data Catalog.\n",
      "\n",
      "  \n",
      "\n",
      "\n",
      "\n",
      ":rtype: dict\n",
      ":returns: \n",
      "  \n",
      "  **Response Syntax**\n",
      "\n",
      "  \n",
      "  ::\n",
      "\n",
      "    {\n",
      "        'TableMetadataList': [\n",
      "            {\n",
      "                'Name': 'string',\n",
      "                'CreateTime': datetime(2015, 1, 1),\n",
      "                'LastAccessTime': datetime(2015, 1, 1),\n",
      "                'TableType': 'string',\n",
      "                'Columns': [\n",
      "                    {\n",
      "                        'Name': 'string',\n",
      "                        'Type': 'string',\n",
      "                        'Comment': 'string'\n",
      "                    },\n",
      "                ],\n",
      "                'PartitionKeys': [\n",
      "                    {\n",
      "                        'Name': 'string',\n",
      "                        'Type': 'string',\n",
      "                        'Comment': 'string'\n",
      "                    },\n",
      "                ],\n",
      "                'Parameters': {\n",
      "                    'string': 'string'\n",
      "                }\n",
      "            },\n",
      "        ],\n",
      "        'NextToken': 'string'\n",
      "    }\n",
      "    \n",
      "  **Response Structure**\n",
      "\n",
      "  \n",
      "\n",
      "  - *(dict) --* \n",
      "    \n",
      "\n",
      "    - **TableMetadataList** *(list) --* \n",
      "\n",
      "      A list of table metadata.\n",
      "\n",
      "      \n",
      "      \n",
      "\n",
      "      - *(dict) --* \n",
      "\n",
      "        Contains metadata for a table.\n",
      "\n",
      "        \n",
      "        \n",
      "\n",
      "        - **Name** *(string) --* \n",
      "\n",
      "          The name of the table.\n",
      "\n",
      "          \n",
      "        \n",
      "\n",
      "        - **CreateTime** *(datetime) --* \n",
      "\n",
      "          The time that the table was created.\n",
      "\n",
      "          \n",
      "        \n",
      "\n",
      "        - **LastAccessTime** *(datetime) --* \n",
      "\n",
      "          The last time the table was accessed.\n",
      "\n",
      "          \n",
      "        \n",
      "\n",
      "        - **TableType** *(string) --* \n",
      "\n",
      "          The type of table. In Athena, only ``EXTERNAL_TABLE`` is supported.\n",
      "\n",
      "          \n",
      "        \n",
      "\n",
      "        - **Columns** *(list) --* \n",
      "\n",
      "          A list of the columns in the table.\n",
      "\n",
      "          \n",
      "          \n",
      "\n",
      "          - *(dict) --* \n",
      "\n",
      "            Contains metadata for a column in a table.\n",
      "\n",
      "            \n",
      "            \n",
      "\n",
      "            - **Name** *(string) --* \n",
      "\n",
      "              The name of the column.\n",
      "\n",
      "              \n",
      "            \n",
      "\n",
      "            - **Type** *(string) --* \n",
      "\n",
      "              The data type of the column.\n",
      "\n",
      "              \n",
      "            \n",
      "\n",
      "            - **Comment** *(string) --* \n",
      "\n",
      "              Optional information about the column.\n",
      "\n",
      "              \n",
      "        \n",
      "      \n",
      "        \n",
      "\n",
      "        - **PartitionKeys** *(list) --* \n",
      "\n",
      "          A list of the partition keys in the table.\n",
      "\n",
      "          \n",
      "          \n",
      "\n",
      "          - *(dict) --* \n",
      "\n",
      "            Contains metadata for a column in a table.\n",
      "\n",
      "            \n",
      "            \n",
      "\n",
      "            - **Name** *(string) --* \n",
      "\n",
      "              The name of the column.\n",
      "\n",
      "              \n",
      "            \n",
      "\n",
      "            - **Type** *(string) --* \n",
      "\n",
      "              The data type of the column.\n",
      "\n",
      "              \n",
      "            \n",
      "\n",
      "            - **Comment** *(string) --* \n",
      "\n",
      "              Optional information about the column.\n",
      "\n",
      "              \n",
      "        \n",
      "      \n",
      "        \n",
      "\n",
      "        - **Parameters** *(dict) --* \n",
      "\n",
      "          A set of custom key/value pairs for table properties.\n",
      "\n",
      "          \n",
      "          \n",
      "\n",
      "          - *(string) --* \n",
      "            \n",
      "\n",
      "            - *(string) --* \n",
      "      \n",
      "    \n",
      "    \n",
      "  \n",
      "    \n",
      "\n",
      "    - **NextToken** *(string) --* \n",
      "\n",
      "      A token generated by the Athena service that specifies where to continue pagination if a previous request was truncated. To obtain the next set of pages, pass in the NextToken from the response object of the previous page call.\n",
      "\n",
      "      \n",
      "\u001b[0;31mFile:\u001b[0m      ~/de_on_aws/data_eng_env/lib/python3.9/site-packages/botocore/client.py\n",
      "\u001b[0;31mType:\u001b[0m      method"
     ]
    }
   ],
   "source": [
    "athena_client.list_table_metadata?"
   ]
  },
  {
   "cell_type": "code",
   "execution_count": null,
   "metadata": {},
   "outputs": [],
   "source": [
    "tables = athena_client.list_table_metadata(CatalogName = CatalogName, DatabaseName = database_name )"
   ]
  },
  {
   "cell_type": "code",
   "execution_count": null,
   "metadata": {},
   "outputs": [],
   "source": [
    "database_name = name_db[3]\n",
    "tables = athena_client.list_table_metadata(CatalogName = CatalogName, DatabaseName = database_name )"
   ]
  },
  {
   "cell_type": "code",
   "execution_count": null,
   "metadata": {},
   "outputs": [
    {
     "data": {
      "text/plain": [
       "{'TableMetadataList': [{'Name': 'categories',\n",
       "   'CreateTime': datetime.datetime(2025, 4, 29, 15, 31, 8, tzinfo=tzlocal()),\n",
       "   'LastAccessTime': datetime.datetime(2025, 4, 29, 16, 10, 13, tzinfo=tzlocal()),\n",
       "   'TableType': 'EXTERNAL_TABLE',\n",
       "   'Columns': [{'Name': 'category_id', 'Type': 'bigint'},\n",
       "    {'Name': 'category_department_id', 'Type': 'bigint'},\n",
       "    {'Name': 'category_name', 'Type': 'string'}],\n",
       "   'PartitionKeys': [],\n",
       "   'Parameters': {'CRAWL_RUN_ID': '7f43feff-6d63-402a-bf18-23d17be75e4a',\n",
       "    'CrawlerSchemaDeserializerVersion': '1.0',\n",
       "    'CrawlerSchemaSerializerVersion': '1.0',\n",
       "    'UPDATED_BY_CRAWLER': 'retail_db_crawler',\n",
       "    'areColumnsQuoted': 'false',\n",
       "    'averageRecordSize': '23',\n",
       "    'classification': 'csv',\n",
       "    'columnsOrdered': 'true',\n",
       "    'compressionType': 'none',\n",
       "    'delimiter': ',',\n",
       "    'inputformat': 'org.apache.hadoop.mapred.TextInputFormat',\n",
       "    'location': 's3://kshitij-retail-bucket/retail_db/categories/',\n",
       "    'objectCount': '2',\n",
       "    'outputformat': 'org.apache.hadoop.hive.ql.io.HiveIgnoreKeyTextOutputFormat',\n",
       "    'recordCount': '98',\n",
       "    'serde.param.field.delim': ',',\n",
       "    'serde.serialization.lib': 'org.apache.hadoop.hive.serde2.lazy.LazySimpleSerDe',\n",
       "    'sizeKey': '2274',\n",
       "    'skip.header.line.count': '1',\n",
       "    'typeOfData': 'file'}},\n",
       "  {'Name': 'customers',\n",
       "   'CreateTime': datetime.datetime(2025, 4, 29, 15, 31, 8, tzinfo=tzlocal()),\n",
       "   'LastAccessTime': datetime.datetime(2025, 4, 29, 16, 10, 13, tzinfo=tzlocal()),\n",
       "   'TableType': 'EXTERNAL_TABLE',\n",
       "   'Columns': [{'Name': 'customer_id', 'Type': 'bigint'},\n",
       "    {'Name': 'customer_fname', 'Type': 'string'},\n",
       "    {'Name': 'customer_lname', 'Type': 'string'},\n",
       "    {'Name': 'customer_email', 'Type': 'string'},\n",
       "    {'Name': 'customer_password', 'Type': 'string'},\n",
       "    {'Name': 'customer_street', 'Type': 'string'},\n",
       "    {'Name': 'customer_city', 'Type': 'string'},\n",
       "    {'Name': 'customer_state', 'Type': 'string'},\n",
       "    {'Name': 'customer_zipcode', 'Type': 'bigint'}],\n",
       "   'PartitionKeys': [],\n",
       "   'Parameters': {'CRAWL_RUN_ID': '7f43feff-6d63-402a-bf18-23d17be75e4a',\n",
       "    'CrawlerSchemaDeserializerVersion': '1.0',\n",
       "    'CrawlerSchemaSerializerVersion': '1.0',\n",
       "    'UPDATED_BY_CRAWLER': 'retail_db_crawler',\n",
       "    'areColumnsQuoted': 'false',\n",
       "    'averageRecordSize': '97',\n",
       "    'classification': 'csv',\n",
       "    'columnsOrdered': 'true',\n",
       "    'compressionType': 'none',\n",
       "    'delimiter': ',',\n",
       "    'inputformat': 'org.apache.hadoop.mapred.TextInputFormat',\n",
       "    'location': 's3://kshitij-retail-bucket/retail_db/customers/',\n",
       "    'objectCount': '2',\n",
       "    'outputformat': 'org.apache.hadoop.hive.ql.io.HiveIgnoreKeyTextOutputFormat',\n",
       "    'recordCount': '19918',\n",
       "    'serde.param.field.delim': ',',\n",
       "    'serde.serialization.lib': 'org.apache.hadoop.hive.serde2.lazy.LazySimpleSerDe',\n",
       "    'sizeKey': '1932196',\n",
       "    'skip.header.line.count': '1',\n",
       "    'typeOfData': 'file'}},\n",
       "  {'Name': 'departments',\n",
       "   'CreateTime': datetime.datetime(2025, 4, 29, 15, 31, 8, tzinfo=tzlocal()),\n",
       "   'LastAccessTime': datetime.datetime(2025, 4, 29, 16, 10, 13, tzinfo=tzlocal()),\n",
       "   'TableType': 'EXTERNAL_TABLE',\n",
       "   'Columns': [{'Name': 'department_id', 'Type': 'bigint'},\n",
       "    {'Name': 'department_name', 'Type': 'string'}],\n",
       "   'PartitionKeys': [],\n",
       "   'Parameters': {'CRAWL_RUN_ID': '7f43feff-6d63-402a-bf18-23d17be75e4a',\n",
       "    'CrawlerSchemaDeserializerVersion': '1.0',\n",
       "    'CrawlerSchemaSerializerVersion': '1.0',\n",
       "    'UPDATED_BY_CRAWLER': 'retail_db_crawler',\n",
       "    'areColumnsQuoted': 'false',\n",
       "    'averageRecordSize': '16',\n",
       "    'classification': 'csv',\n",
       "    'columnsOrdered': 'true',\n",
       "    'compressionType': 'none',\n",
       "    'delimiter': ',',\n",
       "    'inputformat': 'org.apache.hadoop.mapred.TextInputFormat',\n",
       "    'location': 's3://kshitij-retail-bucket/retail_db/departments/',\n",
       "    'objectCount': '2',\n",
       "    'outputformat': 'org.apache.hadoop.hive.ql.io.HiveIgnoreKeyTextOutputFormat',\n",
       "    'recordCount': '12',\n",
       "    'serde.param.field.delim': ',',\n",
       "    'serde.serialization.lib': 'org.apache.hadoop.hive.serde2.lazy.LazySimpleSerDe',\n",
       "    'sizeKey': '194',\n",
       "    'skip.header.line.count': '1',\n",
       "    'typeOfData': 'file'}},\n",
       "  {'Name': 'order_items',\n",
       "   'CreateTime': datetime.datetime(2025, 4, 29, 15, 31, 8, tzinfo=tzlocal()),\n",
       "   'LastAccessTime': datetime.datetime(2025, 4, 29, 16, 10, 13, tzinfo=tzlocal()),\n",
       "   'TableType': 'EXTERNAL_TABLE',\n",
       "   'Columns': [{'Name': 'order_item_id', 'Type': 'bigint'},\n",
       "    {'Name': 'order_item_order_id', 'Type': 'bigint'},\n",
       "    {'Name': 'order_item_product_id', 'Type': 'bigint'},\n",
       "    {'Name': 'order_item_quantity', 'Type': 'bigint'},\n",
       "    {'Name': 'order_item_subtotal', 'Type': 'double'},\n",
       "    {'Name': 'order_item_product_price', 'Type': 'double'}],\n",
       "   'PartitionKeys': [],\n",
       "   'Parameters': {'CRAWL_RUN_ID': '7f43feff-6d63-402a-bf18-23d17be75e4a',\n",
       "    'CrawlerSchemaDeserializerVersion': '1.0',\n",
       "    'CrawlerSchemaSerializerVersion': '1.0',\n",
       "    'UPDATED_BY_CRAWLER': 'retail_db_crawler',\n",
       "    'areColumnsQuoted': 'false',\n",
       "    'averageRecordSize': '55',\n",
       "    'classification': 'csv',\n",
       "    'columnsOrdered': 'true',\n",
       "    'compressionType': 'none',\n",
       "    'delimiter': ',',\n",
       "    'inputformat': 'org.apache.hadoop.mapred.TextInputFormat',\n",
       "    'location': 's3://kshitij-retail-bucket/retail_db/order_items/',\n",
       "    'objectCount': '2',\n",
       "    'outputformat': 'org.apache.hadoop.hive.ql.io.HiveIgnoreKeyTextOutputFormat',\n",
       "    'recordCount': '202952',\n",
       "    'serde.param.field.delim': ',',\n",
       "    'serde.serialization.lib': 'org.apache.hadoop.hive.serde2.lazy.LazySimpleSerDe',\n",
       "    'sizeKey': '11162400',\n",
       "    'skip.header.line.count': '1',\n",
       "    'typeOfData': 'file'}},\n",
       "  {'Name': 'orders',\n",
       "   'CreateTime': datetime.datetime(2025, 4, 29, 15, 31, 8, tzinfo=tzlocal()),\n",
       "   'LastAccessTime': datetime.datetime(2025, 4, 29, 16, 10, 13, tzinfo=tzlocal()),\n",
       "   'TableType': 'EXTERNAL_TABLE',\n",
       "   'Columns': [{'Name': 'order_id', 'Type': 'bigint'},\n",
       "    {'Name': 'order_date', 'Type': 'string'},\n",
       "    {'Name': 'order_customer_id', 'Type': 'bigint'},\n",
       "    {'Name': 'order_status', 'Type': 'string'}],\n",
       "   'PartitionKeys': [],\n",
       "   'Parameters': {'CRAWL_RUN_ID': '7f43feff-6d63-402a-bf18-23d17be75e4a',\n",
       "    'CrawlerSchemaDeserializerVersion': '1.0',\n",
       "    'CrawlerSchemaSerializerVersion': '1.0',\n",
       "    'UPDATED_BY_CRAWLER': 'retail_db_crawler',\n",
       "    'areColumnsQuoted': 'false',\n",
       "    'averageRecordSize': '43',\n",
       "    'classification': 'csv',\n",
       "    'columnsOrdered': 'true',\n",
       "    'compressionType': 'none',\n",
       "    'delimiter': ',',\n",
       "    'inputformat': 'org.apache.hadoop.mapred.TextInputFormat',\n",
       "    'location': 's3://kshitij-retail-bucket/retail_db/orders/',\n",
       "    'objectCount': '2',\n",
       "    'outputformat': 'org.apache.hadoop.hive.ql.io.HiveIgnoreKeyTextOutputFormat',\n",
       "    'recordCount': '142738',\n",
       "    'serde.param.field.delim': ',',\n",
       "    'serde.serialization.lib': 'org.apache.hadoop.hive.serde2.lazy.LazySimpleSerDe',\n",
       "    'sizeKey': '6137758',\n",
       "    'skip.header.line.count': '1',\n",
       "    'typeOfData': 'file'}},\n",
       "  {'Name': 'products',\n",
       "   'CreateTime': datetime.datetime(2025, 4, 29, 15, 31, 8, tzinfo=tzlocal()),\n",
       "   'LastAccessTime': datetime.datetime(2025, 4, 29, 16, 10, 14, tzinfo=tzlocal()),\n",
       "   'TableType': 'EXTERNAL_TABLE',\n",
       "   'Columns': [{'Name': 'product_id', 'Type': 'bigint'},\n",
       "    {'Name': 'product_category_id', 'Type': 'bigint'},\n",
       "    {'Name': 'product_name', 'Type': 'string'},\n",
       "    {'Name': 'product_description', 'Type': 'string'},\n",
       "    {'Name': 'product_price', 'Type': 'double'},\n",
       "    {'Name': 'product_image', 'Type': 'string'}],\n",
       "   'PartitionKeys': [],\n",
       "   'Parameters': {'CRAWL_RUN_ID': '7f43feff-6d63-402a-bf18-23d17be75e4a',\n",
       "    'CrawlerSchemaDeserializerVersion': '1.0',\n",
       "    'CrawlerSchemaSerializerVersion': '1.0',\n",
       "    'UPDATED_BY_CRAWLER': 'retail_db_crawler',\n",
       "    'areColumnsQuoted': 'false',\n",
       "    'averageRecordSize': '123',\n",
       "    'classification': 'csv',\n",
       "    'columnsOrdered': 'true',\n",
       "    'compressionType': 'none',\n",
       "    'delimiter': ',',\n",
       "    'inputformat': 'org.apache.hadoop.mapred.TextInputFormat',\n",
       "    'location': 's3://kshitij-retail-bucket/retail_db/products/',\n",
       "    'objectCount': '2',\n",
       "    'outputformat': 'org.apache.hadoop.hive.ql.io.HiveIgnoreKeyTextOutputFormat',\n",
       "    'recordCount': '2852',\n",
       "    'serde.param.field.delim': ',',\n",
       "    'serde.serialization.lib': 'org.apache.hadoop.hive.serde2.lazy.LazySimpleSerDe',\n",
       "    'sizeKey': '350998',\n",
       "    'skip.header.line.count': '1',\n",
       "    'typeOfData': 'file'}}],\n",
       " 'ResponseMetadata': {'RequestId': 'df27dd65-0220-4d20-a572-e364cd0ed46b',\n",
       "  'HTTPStatusCode': 200,\n",
       "  'HTTPHeaders': {'date': 'Fri, 02 May 2025 05:15:59 GMT',\n",
       "   'content-type': 'application/x-amz-json-1.1',\n",
       "   'content-length': '6590',\n",
       "   'connection': 'keep-alive',\n",
       "   'x-amzn-requestid': 'df27dd65-0220-4d20-a572-e364cd0ed46b'},\n",
       "  'RetryAttempts': 0}}"
      ]
     },
     "execution_count": 40,
     "metadata": {},
     "output_type": "execute_result"
    }
   ],
   "source": [
    "tables"
   ]
  },
  {
   "cell_type": "code",
   "execution_count": null,
   "metadata": {},
   "outputs": [],
   "source": [
    "database_name = name_db[3]\n",
    "tables_metadata = athena_client.list_table_metadata(CatalogName = CatalogName, DatabaseName = database_name )\n",
    "\n"
   ]
  },
  {
   "cell_type": "code",
   "execution_count": null,
   "id": "fd310cf8-74a2-4c00-86ce-f9ff8063b353",
   "metadata": {},
   "outputs": [],
   "source": [
    "# %%\n",
    "\n",
    "database_name = name_db[3]\n",
    "tables_metadata = athena_client.list_table_metadata(CatalogName = CatalogName, DatabaseName = database_name )\n",
    "\n",
    "\n",
    "table_name = [tables['Name'] for tables in tables_metadata['TableMetadataList']]"
   ]
  },
  {
   "cell_type": "code",
   "execution_count": null,
   "metadata": {},
   "outputs": [
    {
     "data": {
      "text/plain": [
       "['categories', 'customers', 'departments', 'order_items', 'orders', 'products']"
      ]
     },
     "execution_count": 45,
     "metadata": {},
     "output_type": "execute_result"
    }
   ],
   "source": [
    "table_name"
   ]
  },
  {
   "cell_type": "code",
   "execution_count": null,
   "id": "2364cada-1b95-405f-93a1-0b8a33d4a93a",
   "metadata": {},
   "outputs": [],
   "source": [
    "# %%\n",
    "\n",
    "category_table = table_name[0]\n",
    "category_metadata = athena_client.get_table_metadata(CatalogName = CatalogName, DatabaseName = database_name, TableName = category_table)"
   ]
  },
  {
   "cell_type": "code",
   "execution_count": null,
   "metadata": {},
   "outputs": [
    {
     "data": {
      "text/plain": [
       "{'TableMetadata': {'Name': 'categories',\n",
       "  'CreateTime': datetime.datetime(2025, 4, 29, 15, 31, 8, tzinfo=tzlocal()),\n",
       "  'LastAccessTime': datetime.datetime(2025, 4, 29, 16, 10, 13, tzinfo=tzlocal()),\n",
       "  'TableType': 'EXTERNAL_TABLE',\n",
       "  'Columns': [{'Name': 'category_id', 'Type': 'bigint'},\n",
       "   {'Name': 'category_department_id', 'Type': 'bigint'},\n",
       "   {'Name': 'category_name', 'Type': 'string'}],\n",
       "  'PartitionKeys': [],\n",
       "  'Parameters': {'CRAWL_RUN_ID': '7f43feff-6d63-402a-bf18-23d17be75e4a',\n",
       "   'CrawlerSchemaDeserializerVersion': '1.0',\n",
       "   'CrawlerSchemaSerializerVersion': '1.0',\n",
       "   'UPDATED_BY_CRAWLER': 'retail_db_crawler',\n",
       "   'areColumnsQuoted': 'false',\n",
       "   'averageRecordSize': '23',\n",
       "   'classification': 'csv',\n",
       "   'columnsOrdered': 'true',\n",
       "   'compressionType': 'none',\n",
       "   'delimiter': ',',\n",
       "   'inputformat': 'org.apache.hadoop.mapred.TextInputFormat',\n",
       "   'location': 's3://kshitij-retail-bucket/retail_db/categories/',\n",
       "   'objectCount': '2',\n",
       "   'outputformat': 'org.apache.hadoop.hive.ql.io.HiveIgnoreKeyTextOutputFormat',\n",
       "   'recordCount': '98',\n",
       "   'serde.param.field.delim': ',',\n",
       "   'serde.serialization.lib': 'org.apache.hadoop.hive.serde2.lazy.LazySimpleSerDe',\n",
       "   'sizeKey': '2274',\n",
       "   'skip.header.line.count': '1',\n",
       "   'typeOfData': 'file'}},\n",
       " 'ResponseMetadata': {'RequestId': 'd3135ea2-26f3-40ac-83fc-f6c28a91f348',\n",
       "  'HTTPStatusCode': 200,\n",
       "  'HTTPHeaders': {'date': 'Fri, 02 May 2025 05:27:17 GMT',\n",
       "   'content-type': 'application/x-amz-json-1.1',\n",
       "   'content-length': '1024',\n",
       "   'connection': 'keep-alive',\n",
       "   'x-amzn-requestid': 'd3135ea2-26f3-40ac-83fc-f6c28a91f348'},\n",
       "  'RetryAttempts': 0}}"
      ]
     },
     "execution_count": 48,
     "metadata": {},
     "output_type": "execute_result"
    }
   ],
   "source": [
    "category_metadata"
   ]
  },
  {
   "cell_type": "code",
   "execution_count": null,
   "id": "d321c697-0807-497d-b043-efb270180d81",
   "metadata": {},
   "outputs": [],
   "source": [
    "# %%\n",
    "\n",
    "import pandas as pd\n",
    "\n",
    "def metadata_to_dataframe(metadata):\n",
    "    columns = metadata['TableMetadata']['Columns']\n",
    "    \n",
    "    df = pd.DataFrame(columns)\n",
    "    \n",
    "    df.attrs['table_name'] = metadata['TableMetadata']['Name']\n",
    "    df.attrs['database_name'] = metadata['TableMetadata'].get('DatabaseName', '')\n",
    "    df.attrs['created_time'] = metadata['TableMetadata'].get('CreateTime', '')\n",
    "    df.attrs['table_type'] = metadata['TableMetadata'].get('TableType', '')\n",
    "    \n",
    "    return df\n",
    "\n",
    "category_metadata = athena_client.get_table_metadata(\n",
    "    CatalogName=CatalogName, \n",
    "    DatabaseName=database_name, \n",
    "    TableName=category_table\n",
    ")\n",
    "\n",
    "category_df = metadata_to_dataframe(category_metadata)"
   ]
  },
  {
   "cell_type": "code",
   "execution_count": null,
   "metadata": {},
   "outputs": [
    {
     "data": {
      "text/html": [
       "<div>\n",
       "<style scoped>\n",
       "    .dataframe tbody tr th:only-of-type {\n",
       "        vertical-align: middle;\n",
       "    }\n",
       "\n",
       "    .dataframe tbody tr th {\n",
       "        vertical-align: top;\n",
       "    }\n",
       "\n",
       "    .dataframe thead th {\n",
       "        text-align: right;\n",
       "    }\n",
       "</style>\n",
       "<table border=\"1\" class=\"dataframe\">\n",
       "  <thead>\n",
       "    <tr style=\"text-align: right;\">\n",
       "      <th></th>\n",
       "      <th>Name</th>\n",
       "      <th>Type</th>\n",
       "    </tr>\n",
       "  </thead>\n",
       "  <tbody>\n",
       "    <tr>\n",
       "      <th>0</th>\n",
       "      <td>category_id</td>\n",
       "      <td>bigint</td>\n",
       "    </tr>\n",
       "    <tr>\n",
       "      <th>1</th>\n",
       "      <td>category_department_id</td>\n",
       "      <td>bigint</td>\n",
       "    </tr>\n",
       "    <tr>\n",
       "      <th>2</th>\n",
       "      <td>category_name</td>\n",
       "      <td>string</td>\n",
       "    </tr>\n",
       "  </tbody>\n",
       "</table>\n",
       "</div>"
      ],
      "text/plain": [
       "                     Name    Type\n",
       "0             category_id  bigint\n",
       "1  category_department_id  bigint\n",
       "2           category_name  string"
      ]
     },
     "execution_count": 51,
     "metadata": {},
     "output_type": "execute_result"
    }
   ],
   "source": [
    "category_df"
   ]
  },
  {
   "cell_type": "code",
   "execution_count": null,
   "id": "2cbb8e10-8a42-4c5c-864e-9a96960d0655",
   "metadata": {},
   "outputs": [
    {
     "name": "stdout",
     "output_type": "stream",
     "text": [
      "Count: 137766\n"
     ]
    }
   ],
   "source": [
    "# %%\n",
    "\n",
    "import time\n",
    "s3_output = 's3://kshitij-de-bucket/boto3queryresults/'  \n",
    "database = 'retail_db' \n",
    "query = 'SELECT count(*) FROM retail_db.orders'\n",
    "\n",
    "response = athena_client.start_query_execution(\n",
    "    QueryString=query,\n",
    "    QueryExecutionContext={'Database': database},\n",
    "    ResultConfiguration={'OutputLocation': s3_output}\n",
    ")\n",
    "\n",
    "query_execution_id = response['QueryExecutionId']\n",
    "\n",
    "while True:\n",
    "    result = athena_client.get_query_execution(QueryExecutionId=query_execution_id)\n",
    "    status = result['QueryExecution']['Status']['State']\n",
    "    if status in ['SUCCEEDED', 'FAILED', 'CANCELLED']:\n",
    "        break\n",
    "    time.sleep(2)\n",
    "\n",
    "\n",
    "if status == 'SUCCEEDED':\n",
    "    result_response = athena_client.get_query_results(QueryExecutionId=query_execution_id)\n",
    "    rows = result_response['ResultSet']['Rows']\n",
    "    result_value = rows[1]['Data'][0]['VarCharValue']  \n",
    "    print(\"Count:\", result_value)\n",
    "else:\n",
    "    print(\"Query failed or was cancelled. Status:\", status)"
   ]
  },
  {
   "cell_type": "code",
   "execution_count": null,
   "metadata": {},
   "outputs": [
    {
     "data": {
      "text/plain": [
       "{'QueryExecutionId': 'e0ddb003-f0c4-4cdf-a2df-eafe7695145a',\n",
       " 'ResponseMetadata': {'RequestId': '28a4442f-61e7-4049-97c2-1c93263cb9a6',\n",
       "  'HTTPStatusCode': 200,\n",
       "  'HTTPHeaders': {'date': 'Fri, 02 May 2025 07:53:21 GMT',\n",
       "   'content-type': 'application/x-amz-json-1.1',\n",
       "   'content-length': '59',\n",
       "   'connection': 'keep-alive',\n",
       "   'x-amzn-requestid': '28a4442f-61e7-4049-97c2-1c93263cb9a6'},\n",
       "  'RetryAttempts': 0}}"
      ]
     },
     "execution_count": 53,
     "metadata": {},
     "output_type": "execute_result"
    }
   ],
   "source": [
    "response"
   ]
  },
  {
   "cell_type": "code",
   "execution_count": null,
   "metadata": {},
   "outputs": [
    {
     "data": {
      "text/plain": [
       "'e0ddb003-f0c4-4cdf-a2df-eafe7695145a'"
      ]
     },
     "execution_count": 54,
     "metadata": {},
     "output_type": "execute_result"
    }
   ],
   "source": [
    "query_execution_id"
   ]
  },
  {
   "cell_type": "code",
   "execution_count": null,
   "metadata": {},
   "outputs": [
    {
     "data": {
      "text/plain": [
       "{'QueryExecution': {'QueryExecutionId': 'e0ddb003-f0c4-4cdf-a2df-eafe7695145a',\n",
       "  'Query': 'SELECT count(*) FROM retail_db.orders',\n",
       "  'StatementType': 'DML',\n",
       "  'ResultConfiguration': {'OutputLocation': 's3://kshitij-de-bucket/boto3queryresults/e0ddb003-f0c4-4cdf-a2df-eafe7695145a.csv'},\n",
       "  'ResultReuseConfiguration': {'ResultReuseByAgeConfiguration': {'Enabled': False}},\n",
       "  'QueryExecutionContext': {'Database': 'retail_db'},\n",
       "  'Status': {'State': 'SUCCEEDED',\n",
       "   'SubmissionDateTime': datetime.datetime(2025, 5, 2, 13, 23, 21, 604000, tzinfo=tzlocal()),\n",
       "   'CompletionDateTime': datetime.datetime(2025, 5, 2, 13, 23, 22, 369000, tzinfo=tzlocal())},\n",
       "  'Statistics': {'EngineExecutionTimeInMillis': 599,\n",
       "   'DataScannedInBytes': 6137758,\n",
       "   'TotalExecutionTimeInMillis': 765,\n",
       "   'QueryQueueTimeInMillis': 82,\n",
       "   'ServicePreProcessingTimeInMillis': 46,\n",
       "   'QueryPlanningTimeInMillis': 60,\n",
       "   'ServiceProcessingTimeInMillis': 38,\n",
       "   'ResultReuseInformation': {'ReusedPreviousResult': False}},\n",
       "  'WorkGroup': 'primary',\n",
       "  'EngineVersion': {'SelectedEngineVersion': 'AUTO',\n",
       "   'EffectiveEngineVersion': 'Athena engine version 3'},\n",
       "  'SubstatementType': 'SELECT'},\n",
       " 'ResponseMetadata': {'RequestId': '6aaba601-6323-4412-ac11-a669c213d6aa',\n",
       "  'HTTPStatusCode': 200,\n",
       "  'HTTPHeaders': {'date': 'Fri, 02 May 2025 07:53:24 GMT',\n",
       "   'content-type': 'application/x-amz-json-1.1',\n",
       "   'content-length': '1692',\n",
       "   'connection': 'keep-alive',\n",
       "   'x-amzn-requestid': '6aaba601-6323-4412-ac11-a669c213d6aa'},\n",
       "  'RetryAttempts': 0}}"
      ]
     },
     "execution_count": 55,
     "metadata": {},
     "output_type": "execute_result"
    }
   ],
   "source": [
    "result"
   ]
  },
  {
   "cell_type": "code",
   "execution_count": null,
   "metadata": {},
   "outputs": [
    {
     "data": {
      "text/plain": [
       "{'UpdateCount': 0,\n",
       " 'ResultSet': {'Rows': [{'Data': [{'VarCharValue': '_col0'}]},\n",
       "   {'Data': [{'VarCharValue': '137766'}]}],\n",
       "  'ResultSetMetadata': {'ColumnInfo': [{'CatalogName': 'hive',\n",
       "     'SchemaName': '',\n",
       "     'TableName': '',\n",
       "     'Name': '_col0',\n",
       "     'Label': '_col0',\n",
       "     'Type': 'bigint',\n",
       "     'Precision': 19,\n",
       "     'Scale': 0,\n",
       "     'Nullable': 'UNKNOWN',\n",
       "     'CaseSensitive': False}]}},\n",
       " 'ResponseMetadata': {'RequestId': 'e8c40428-3c0c-484b-811d-df9394afe818',\n",
       "  'HTTPStatusCode': 200,\n",
       "  'HTTPHeaders': {'date': 'Fri, 02 May 2025 07:53:24 GMT',\n",
       "   'content-type': 'application/x-amz-json-1.1',\n",
       "   'content-length': '352',\n",
       "   'connection': 'keep-alive',\n",
       "   'x-amzn-requestid': 'e8c40428-3c0c-484b-811d-df9394afe818'},\n",
       "  'RetryAttempts': 0}}"
      ]
     },
     "execution_count": 56,
     "metadata": {},
     "output_type": "execute_result"
    }
   ],
   "source": [
    "result_response"
   ]
  },
  {
   "cell_type": "code",
   "execution_count": null,
   "id": "c5d87d4b-618b-4c35-a460-cc0ca5b383d7",
   "metadata": {},
   "outputs": [],
   "source": [
    "# %%\n",
    "\n",
    "#now if the query results are in data and i want to convert them to dataframe\n",
    " \n",
    "import pandas as pd\n",
    "\n",
    "query_dataframe = f'SELECT * FROM retail_db.categories LIMIT 10'\n",
    "\n",
    "response_1 = athena_client.start_query_execution(\n",
    "    QueryString=query_dataframe,\n",
    "    QueryExecutionContext={'Database': database},\n",
    "    ResultConfiguration={'OutputLocation': s3_output}\n",
    ")"
   ]
  },
  {
   "cell_type": "code",
   "execution_count": null,
   "metadata": {},
   "outputs": [
    {
     "data": {
      "text/plain": [
       "{'QueryExecutionId': 'db05df9b-226e-48df-bba1-76627f9e701c',\n",
       " 'ResponseMetadata': {'RequestId': '369eb173-4b9f-4ca0-87ef-e5b20f029266',\n",
       "  'HTTPStatusCode': 200,\n",
       "  'HTTPHeaders': {'date': 'Fri, 02 May 2025 07:58:29 GMT',\n",
       "   'content-type': 'application/x-amz-json-1.1',\n",
       "   'content-length': '59',\n",
       "   'connection': 'keep-alive',\n",
       "   'x-amzn-requestid': '369eb173-4b9f-4ca0-87ef-e5b20f029266'},\n",
       "  'RetryAttempts': 0}}"
      ]
     },
     "execution_count": 58,
     "metadata": {},
     "output_type": "execute_result"
    }
   ],
   "source": [
    "response_1"
   ]
  },
  {
   "cell_type": "code",
   "execution_count": null,
   "metadata": {},
   "outputs": [],
   "source": [
    "query_execution_id_1 = response_1['QueryExecutionId']"
   ]
  },
  {
   "cell_type": "code",
   "execution_count": null,
   "metadata": {},
   "outputs": [
    {
     "data": {
      "text/plain": [
       "'db05df9b-226e-48df-bba1-76627f9e701c'"
      ]
     },
     "execution_count": 60,
     "metadata": {},
     "output_type": "execute_result"
    }
   ],
   "source": [
    "query_execution_id_1"
   ]
  },
  {
   "cell_type": "code",
   "execution_count": null,
   "id": "f1b42dcd-9ac7-4ee1-9466-42e798360997",
   "metadata": {},
   "outputs": [
    {
     "name": "stdout",
     "output_type": "stream",
     "text": [
      "    _col0\n",
      "0  137766\n"
     ]
    }
   ],
   "source": [
    "# %%\n",
    "\n",
    "#now if the query results are in data and i want to convert them to dataframe\n",
    " \n",
    "import pandas as pd\n",
    "\n",
    "query_dataframe = f'SELECT * FROM retail_db.categories LIMIT 10'\n",
    "\n",
    "response_1 = athena_client.start_query_execution(\n",
    "    QueryString=query_dataframe,\n",
    "    QueryExecutionContext={'Database': database},\n",
    "    ResultConfiguration={'OutputLocation': s3_output}\n",
    ")\n",
    "\n",
    "query_execution_id_1 = response_1['QueryExecutionId']\n",
    "\n",
    "def wait_for_query(query_id):\n",
    "    while True:\n",
    "        result = athena_client.get_query_execution(QueryExecutionId=query_id)\n",
    "        status = result['QueryExecution']['Status']['State']\n",
    "        if status in ['SUCCEEDED', 'FAILED', 'CANCELLED']:\n",
    "            return status\n",
    "        time.sleep(1)\n",
    "\n",
    "status = wait_for_query(query_execution_id_1)\n",
    "\n",
    "if status == 'SUCCEEDED':\n",
    "    result = athena_client.get_query_results(QueryExecutionId=query_execution_id)\n",
    "    \n",
    "    # Extract column names\n",
    "    columns = [col['Label'] for col in result['ResultSet']['ResultSetMetadata']['ColumnInfo']]\n",
    "    \n",
    "    # Skip header row (it's included as first row)\n",
    "    rows = result['ResultSet']['Rows'][1:]\n",
    "    \n",
    "    # Parse rows\n",
    "    data = []\n",
    "    for row in rows:\n",
    "        data.append([field.get('VarCharValue', '') for field in row['Data']])\n",
    "\n",
    "    # Convert to DataFrame\n",
    "    df = pd.DataFrame(data, columns=columns)\n",
    "    print(df)\n",
    "else:\n",
    "    print(f\"Query failed with status: {status}\")"
   ]
  },
  {
   "cell_type": "code",
   "execution_count": null,
   "metadata": {},
   "outputs": [
    {
     "data": {
      "text/html": [
       "<div>\n",
       "<style scoped>\n",
       "    .dataframe tbody tr th:only-of-type {\n",
       "        vertical-align: middle;\n",
       "    }\n",
       "\n",
       "    .dataframe tbody tr th {\n",
       "        vertical-align: top;\n",
       "    }\n",
       "\n",
       "    .dataframe thead th {\n",
       "        text-align: right;\n",
       "    }\n",
       "</style>\n",
       "<table border=\"1\" class=\"dataframe\">\n",
       "  <thead>\n",
       "    <tr style=\"text-align: right;\">\n",
       "      <th></th>\n",
       "      <th>_col0</th>\n",
       "    </tr>\n",
       "  </thead>\n",
       "  <tbody>\n",
       "    <tr>\n",
       "      <th>0</th>\n",
       "      <td>137766</td>\n",
       "    </tr>\n",
       "  </tbody>\n",
       "</table>\n",
       "</div>"
      ],
      "text/plain": [
       "    _col0\n",
       "0  137766"
      ]
     },
     "execution_count": 62,
     "metadata": {},
     "output_type": "execute_result"
    }
   ],
   "source": [
    "df"
   ]
  },
  {
   "cell_type": "code",
   "execution_count": null,
   "id": "7399fa72-608e-41d5-be8f-6558ae88ed31",
   "metadata": {},
   "outputs": [
    {
     "name": "stdout",
     "output_type": "stream",
     "text": [
      "  category_id category_department_id        category_name\n",
      "0           1                      2             Football\n",
      "1           2                      2               Soccer\n",
      "2           3                      2  Baseball & Softball\n",
      "3           4                      2           Basketball\n",
      "4           5                      2             Lacrosse\n",
      "5           6                      2     Tennis & Racquet\n",
      "6           7                      2               Hockey\n",
      "7           8                      2          More Sports\n",
      "8           9                      3     Cardio Equipment\n",
      "9          10                      3    Strength Training\n"
     ]
    }
   ],
   "source": [
    "# %%\n",
    "\n",
    "#now if the query results are in data and i want to convert them to dataframe\n",
    " \n",
    "import pandas as pd\n",
    "\n",
    "query_dataframe = f'SELECT * FROM retail_db.categories LIMIT 10'\n",
    "\n",
    "response_1 = athena_client.start_query_execution(\n",
    "    QueryString=query_dataframe,\n",
    "    QueryExecutionContext={'Database': database},\n",
    "    ResultConfiguration={'OutputLocation': s3_output}\n",
    ")\n",
    "\n",
    "query_execution_id_1 = response_1['QueryExecutionId']\n",
    "\n",
    "def wait_for_query(query_id):\n",
    "    while True:\n",
    "        result = athena_client.get_query_execution(QueryExecutionId=query_id)\n",
    "        status = result['QueryExecution']['Status']['State']\n",
    "        if status in ['SUCCEEDED', 'FAILED', 'CANCELLED']:\n",
    "            return status\n",
    "        time.sleep(1)\n",
    "\n",
    "status = wait_for_query(query_execution_id_1)\n",
    "\n",
    "if status == 'SUCCEEDED':\n",
    "    result = athena_client.get_query_results(QueryExecutionId=query_execution_id_1)\n",
    "    \n",
    "    # Extract column names\n",
    "    columns = [col['Label'] for col in result['ResultSet']['ResultSetMetadata']['ColumnInfo']]\n",
    "    \n",
    "    # Skip header row (it's included as first row)\n",
    "    rows = result['ResultSet']['Rows'][1:]\n",
    "    \n",
    "    # Parse rows\n",
    "    data = []\n",
    "    for row in rows:\n",
    "        data.append([field.get('VarCharValue', '') for field in row['Data']])\n",
    "\n",
    "    # Convert to DataFrame\n",
    "    df = pd.DataFrame(data, columns=columns)\n",
    "    print(df)\n",
    "else:\n",
    "    print(f\"Query failed with status: {status}\")"
   ]
  },
  {
   "cell_type": "code",
   "execution_count": null,
   "metadata": {},
   "outputs": [
    {
     "data": {
      "text/html": [
       "<div>\n",
       "<style scoped>\n",
       "    .dataframe tbody tr th:only-of-type {\n",
       "        vertical-align: middle;\n",
       "    }\n",
       "\n",
       "    .dataframe tbody tr th {\n",
       "        vertical-align: top;\n",
       "    }\n",
       "\n",
       "    .dataframe thead th {\n",
       "        text-align: right;\n",
       "    }\n",
       "</style>\n",
       "<table border=\"1\" class=\"dataframe\">\n",
       "  <thead>\n",
       "    <tr style=\"text-align: right;\">\n",
       "      <th></th>\n",
       "      <th>category_id</th>\n",
       "      <th>category_department_id</th>\n",
       "      <th>category_name</th>\n",
       "    </tr>\n",
       "  </thead>\n",
       "  <tbody>\n",
       "    <tr>\n",
       "      <th>0</th>\n",
       "      <td>1</td>\n",
       "      <td>2</td>\n",
       "      <td>Football</td>\n",
       "    </tr>\n",
       "    <tr>\n",
       "      <th>1</th>\n",
       "      <td>2</td>\n",
       "      <td>2</td>\n",
       "      <td>Soccer</td>\n",
       "    </tr>\n",
       "    <tr>\n",
       "      <th>2</th>\n",
       "      <td>3</td>\n",
       "      <td>2</td>\n",
       "      <td>Baseball &amp; Softball</td>\n",
       "    </tr>\n",
       "    <tr>\n",
       "      <th>3</th>\n",
       "      <td>4</td>\n",
       "      <td>2</td>\n",
       "      <td>Basketball</td>\n",
       "    </tr>\n",
       "    <tr>\n",
       "      <th>4</th>\n",
       "      <td>5</td>\n",
       "      <td>2</td>\n",
       "      <td>Lacrosse</td>\n",
       "    </tr>\n",
       "    <tr>\n",
       "      <th>5</th>\n",
       "      <td>6</td>\n",
       "      <td>2</td>\n",
       "      <td>Tennis &amp; Racquet</td>\n",
       "    </tr>\n",
       "    <tr>\n",
       "      <th>6</th>\n",
       "      <td>7</td>\n",
       "      <td>2</td>\n",
       "      <td>Hockey</td>\n",
       "    </tr>\n",
       "    <tr>\n",
       "      <th>7</th>\n",
       "      <td>8</td>\n",
       "      <td>2</td>\n",
       "      <td>More Sports</td>\n",
       "    </tr>\n",
       "    <tr>\n",
       "      <th>8</th>\n",
       "      <td>9</td>\n",
       "      <td>3</td>\n",
       "      <td>Cardio Equipment</td>\n",
       "    </tr>\n",
       "    <tr>\n",
       "      <th>9</th>\n",
       "      <td>10</td>\n",
       "      <td>3</td>\n",
       "      <td>Strength Training</td>\n",
       "    </tr>\n",
       "  </tbody>\n",
       "</table>\n",
       "</div>"
      ],
      "text/plain": [
       "  category_id category_department_id        category_name\n",
       "0           1                      2             Football\n",
       "1           2                      2               Soccer\n",
       "2           3                      2  Baseball & Softball\n",
       "3           4                      2           Basketball\n",
       "4           5                      2             Lacrosse\n",
       "5           6                      2     Tennis & Racquet\n",
       "6           7                      2               Hockey\n",
       "7           8                      2          More Sports\n",
       "8           9                      3     Cardio Equipment\n",
       "9          10                      3    Strength Training"
      ]
     },
     "execution_count": 64,
     "metadata": {},
     "output_type": "execute_result"
    }
   ],
   "source": [
    "df"
   ]
  }
 ],
 "metadata": {
  "language_info": {
   "codemirror_mode": {
    "name": "ipython",
    "version": 3
   },
   "file_extension": ".py",
   "mimetype": "text/x-python",
   "name": "python",
   "nbconvert_exporter": "python",
   "pygments_lexer": "ipython3",
   "version": 3
  }
 },
 "nbformat": 4,
 "nbformat_minor": 2
}
